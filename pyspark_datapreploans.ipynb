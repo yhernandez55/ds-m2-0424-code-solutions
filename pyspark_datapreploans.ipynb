{
  "cells": [
    {
      "cell_type": "markdown",
      "metadata": {
        "id": "2iPnST4qi1X1"
      },
      "source": [
        "# info"
      ]
    },
    {
      "cell_type": "code",
      "execution_count": 1,
      "metadata": {
        "id": "_DDGcfghpUVG"
      },
      "outputs": [],
      "source": [
        "import pyspark"
      ]
    },
    {
      "cell_type": "code",
      "execution_count": 2,
      "metadata": {
        "colab": {
          "base_uri": "https://localhost:8080/",
          "height": 35
        },
        "id": "V0Ow7FLOqCzW",
        "outputId": "40815fdd-f3d2-41e2-cfbf-9b377db33a4c"
      },
      "outputs": [
        {
          "data": {
            "text/plain": [
              "'3.5.2'"
            ]
          },
          "execution_count": 2,
          "metadata": {},
          "output_type": "execute_result"
        }
      ],
      "source": [
        "pyspark.__version__"
      ]
    },
    {
      "cell_type": "code",
      "execution_count": 3,
      "metadata": {
        "id": "SEjzlLAjpWyQ"
      },
      "outputs": [],
      "source": [
        "from pyspark.sql import SparkSession"
      ]
    },
    {
      "cell_type": "code",
      "execution_count": 4,
      "metadata": {
        "id": "6Q4Q3WrRp2Mk"
      },
      "outputs": [
        {
          "name": "stderr",
          "output_type": "stream",
          "text": [
            "25/01/25 22:22:18 WARN Utils: Your hostname, Yanellys-MacBook-Air.local resolves to a loopback address: 127.0.0.1; using 192.168.1.14 instead (on interface en0)\n",
            "25/01/25 22:22:18 WARN Utils: Set SPARK_LOCAL_IP if you need to bind to another address\n",
            "Setting default log level to \"WARN\".\n",
            "To adjust logging level use sc.setLogLevel(newLevel). For SparkR, use setLogLevel(newLevel).\n",
            "25/01/25 22:22:19 WARN NativeCodeLoader: Unable to load native-hadoop library for your platform... using builtin-java classes where applicable\n",
            "25/01/25 22:22:20 WARN Utils: Service 'SparkUI' could not bind on port 4040. Attempting port 4041.\n"
          ]
        }
      ],
      "source": [
        "spark = SparkSession.builder.getOrCreate()"
      ]
    },
    {
      "cell_type": "code",
      "execution_count": 6,
      "metadata": {
        "colab": {
          "base_uri": "https://localhost:8080/"
        },
        "id": "z0ae9SU5paw1",
        "outputId": "aa9ac90a-d3d1-48d5-a9c4-2c4468b5912a"
      },
      "outputs": [
        {
          "name": "stderr",
          "output_type": "stream",
          "text": [
            "                                                                                \r"
          ]
        },
        {
          "name": "stdout",
          "output_type": "stream",
          "text": [
            "+--------------------+--------------------+-----------+-------------------+----------+------------+--------------------+--------------+-------------+------------------+------------+-----------------------+----------------------------+-----------------------+-------------------------+----------------------+-------------------+------------+---------+\n",
            "|             Loan ID|         Customer ID|Loan Status|Current Loan Amount|      Term|Credit Score|Years in current job|Home Ownership|Annual Income|           Purpose|Monthly Debt|Years of Credit History|Months since last delinquent|Number of Open Accounts|Number of Credit Problems|Current Credit Balance|Maximum Open Credit|Bankruptcies|Tax Liens|\n",
            "+--------------------+--------------------+-----------+-------------------+----------+------------+--------------------+--------------+-------------+------------------+------------+-----------------------+----------------------------+-----------------------+-------------------------+----------------------+-------------------+------------+---------+\n",
            "|000025bb-5694-4cf...|5ebc8bb1-5eb9-440...| Fully Paid|              11520|Short Term|         741|           10+ years| Home Mortgage|        33694|Debt Consolidation|     $584.03|                   12.3|                          41|                     10|                        0|                  6760|              16056|           0|        0|\n",
            "|00002c49-3a29-4bd...|927b388d-2e01-423...| Fully Paid|               3441|Short Term|         734|             4 years| Home Mortgage|        42269|             other|  $1,106.04 |                   26.3|                          NA|                     17|                        0|                  6262|              19149|           0|        0|\n",
            "|00002d89-27f3-409...|defce609-c631-447...| Fully Paid|              21029|Short Term|         747|           10+ years| Home Mortgage|        90126|Debt Consolidation|  $1,321.85 |                   28.8|                          NA|                      5|                        0|                 20967|              28335|           0|        0|\n",
            "|00005222-b4d8-45a...|070bcecb-aae7-448...| Fully Paid|              18743|Short Term|         747|           10+ years|      Own Home|        38072|Debt Consolidation|     $751.92|                   26.2|                          NA|                      9|                        0|                 22529|              43915|           0|        0|\n",
            "|0000757f-a121-41e...|dde79588-12f0-481...| Fully Paid|              11731|Short Term|         746|             4 years|          Rent|        50025|Debt Consolidation|     $355.18|                   11.5|                          NA|                     12|                        0|                 17391|              37081|           0|        0|\n",
            "|0000a149-b055-4a5...|62ddc017-7023-4ba...| Fully Paid|              10208|Short Term|         716|           10+ years|          Rent|        41853|     Business Loan|     $561.52|                   13.2|                          NA|                      4|                        1|                  2289|               4671|           1|        0|\n",
            "|0000afa6-8902-4f8...|e49c1a82-a0f7-45e...|Charged Off|              24613| Long Term|        6640|             6 years|          Rent|        49225|     Business Loan|     $542.29|                   17.6|                          73|                      7|                        0|                 14123|              16954|           0|        0|\n",
            "|0000afa6-8902-4f8...|e49c1a82-a0f7-45e...|Charged Off|              24613| Long Term|        NULL|             6 years|          Rent|         NULL|     Business Loan|     $542.29|                   17.6|                          73|                      7|                        0|                 14123|              16954|           0|        0|\n",
            "|00011dfc-31c1-417...|ef6e098c-6c83-475...| Fully Paid|              10036|Short Term|        NULL|             5 years|          Rent|         NULL|Debt Consolidation|     $386.36|                   17.7|                          NA|                      7|                        0|                 11970|              16579|           0|        0|\n",
            "|0001cb86-af28-401...|4aae67bb-d54b-41a...| Fully Paid|               2036|Short Term|         733|                 n/a| Home Mortgage|        55985|Debt Consolidation|     $741.79|                   19.8|                          29|                      7|                        0|                 10926|              15676|           0|        0|\n",
            "|00020fb0-6b8a-4b3...|c9decd06-16f7-44c...| Fully Paid|           99999999|Short Term|         742|             3 years| Home Mortgage|        64760|Debt Consolidation|     $582.84|                   26.8|                          NA|                     11|                        0|                  8880|              22711|           0|        0|\n",
            "|0002593b-4973-4f2...|c1322b41-c3f5-439...| Fully Paid|              10233|Short Term|         742|             2 years| Home Mortgage|       153495| Home Improvements|  $1,573.32 |                   19.2|                          NA|                      8|                        0|                 32630|              41726|           0|        0|\n",
            "|00029f9f-0cc5-4d4...|afbc2fa3-3bad-4d4...|Charged Off|              17980|Short Term|        NULL|            < 1 year|      Own Home|         NULL|Debt Consolidation|     $597.50|                    9.9|                          43|                      7|                        0|                  6817|              22800|           0|        0|\n",
            "|00029f9f-0cc5-4d4...|afbc2fa3-3bad-4d4...|Charged Off|              17961|Short Term|         701|            < 1 year|      Own Home|        53053|Debt Consolidation|     $596.85|                    9.9|                          43|                      7|                        0|                  6810|              22775|           0|        0|\n",
            "|00029f9f-0cc5-4d4...|afbc2fa3-3bad-4d4...|Charged Off|              17961|Short Term|         701|            < 1 year|      Own Home|        53053|Debt Consolidation|     $596.85|                    9.9|                          43|                      7|                        0|                  6810|              22775|           0|        0|\n",
            "|00029f9f-0cc5-4d4...|afbc2fa3-3bad-4d4...|Charged Off|              17980|Short Term|         701|            < 1 year|      Own Home|        53112|Debt Consolidation|     $597.50|                    9.9|                          43|                      7|                        0|                  6817|              22800|           0|        0|\n",
            "|0002c691-5314-44a...|41207d1e-5d13-43e...| Fully Paid|           99999999|Short Term|         744|             6 years| Home Mortgage|        65605|Debt Consolidation|     $984.07|                     21|                          NA|                      5|                        1|                 11514|              17262|           1|        0|\n",
            "|000306fc-516c-48c...|df5577f6-6db3-47a...| Fully Paid|               7587|Short Term|         744|             5 years| Home Mortgage|        50580|Debt Consolidation|     $451.00|                   18.8|                          NA|                      9|                        0|                  8519|              15982|           0|        0|\n",
            "|00035328-2636-439...|28eb75ac-6a09-405...|Charged Off|              11604|Short Term|         729|             6 years| Home Mortgage|        35315|Debt Consolidation|     $662.16|                     15|                          NA|                     12|                        0|                 17092|              20743|           0|        0|\n",
            "|00035328-2636-439...|28eb75ac-6a09-405...|Charged Off|              11604|Short Term|         729|             6 years| Home Mortgage|        35315|Debt Consolidation|     $662.16|                     15|                          NA|                     12|                        0|                 17092|              20743|           0|        0|\n",
            "+--------------------+--------------------+-----------+-------------------+----------+------------+--------------------+--------------+-------------+------------------+------------+-----------------------+----------------------------+-----------------------+-------------------------+----------------------+-------------------+------------+---------+\n",
            "only showing top 20 rows\n",
            "\n"
          ]
        }
      ],
      "source": [
        "data = spark.read.csv('LoansTrainingSet.csv', header=True)\n",
        "data.show()"
      ]
    },
    {
      "cell_type": "code",
      "execution_count": 7,
      "metadata": {
        "colab": {
          "base_uri": "https://localhost:8080/"
        },
        "id": "dSNFhIDEqbJr",
        "outputId": "96bdb791-6a97-4508-999a-259df9553bec"
      },
      "outputs": [
        {
          "name": "stderr",
          "output_type": "stream",
          "text": [
            "                                                                                \r"
          ]
        },
        {
          "data": {
            "text/plain": [
              "256984"
            ]
          },
          "execution_count": 7,
          "metadata": {},
          "output_type": "execute_result"
        }
      ],
      "source": [
        "data.count()"
      ]
    },
    {
      "cell_type": "code",
      "execution_count": 8,
      "metadata": {
        "colab": {
          "base_uri": "https://localhost:8080/"
        },
        "id": "FiGuDUjkqdm7",
        "outputId": "0a92ce8c-146e-4adf-ffa2-9599bd3f13c2"
      },
      "outputs": [
        {
          "data": {
            "text/plain": [
              "['Loan ID',\n",
              " 'Customer ID',\n",
              " 'Loan Status',\n",
              " 'Current Loan Amount',\n",
              " 'Term',\n",
              " 'Credit Score',\n",
              " 'Years in current job',\n",
              " 'Home Ownership',\n",
              " 'Annual Income',\n",
              " 'Purpose',\n",
              " 'Monthly Debt',\n",
              " 'Years of Credit History',\n",
              " 'Months since last delinquent',\n",
              " 'Number of Open Accounts',\n",
              " 'Number of Credit Problems',\n",
              " 'Current Credit Balance',\n",
              " 'Maximum Open Credit',\n",
              " 'Bankruptcies',\n",
              " 'Tax Liens']"
            ]
          },
          "execution_count": 8,
          "metadata": {},
          "output_type": "execute_result"
        }
      ],
      "source": [
        "data.columns"
      ]
    },
    {
      "cell_type": "code",
      "execution_count": 9,
      "metadata": {
        "colab": {
          "base_uri": "https://localhost:8080/"
        },
        "id": "zh1Iz1_FqRVn",
        "outputId": "26d82ec7-0fea-4ec5-c1b9-70c78fdcf7ac"
      },
      "outputs": [
        {
          "name": "stdout",
          "output_type": "stream",
          "text": [
            "root\n",
            " |-- Loan ID: string (nullable = true)\n",
            " |-- Customer ID: string (nullable = true)\n",
            " |-- Loan Status: string (nullable = true)\n",
            " |-- Current Loan Amount: string (nullable = true)\n",
            " |-- Term: string (nullable = true)\n",
            " |-- Credit Score: string (nullable = true)\n",
            " |-- Years in current job: string (nullable = true)\n",
            " |-- Home Ownership: string (nullable = true)\n",
            " |-- Annual Income: string (nullable = true)\n",
            " |-- Purpose: string (nullable = true)\n",
            " |-- Monthly Debt: string (nullable = true)\n",
            " |-- Years of Credit History: string (nullable = true)\n",
            " |-- Months since last delinquent: string (nullable = true)\n",
            " |-- Number of Open Accounts: string (nullable = true)\n",
            " |-- Number of Credit Problems: string (nullable = true)\n",
            " |-- Current Credit Balance: string (nullable = true)\n",
            " |-- Maximum Open Credit: string (nullable = true)\n",
            " |-- Bankruptcies: string (nullable = true)\n",
            " |-- Tax Liens: string (nullable = true)\n",
            "\n"
          ]
        }
      ],
      "source": [
        "data.printSchema()"
      ]
    },
    {
      "cell_type": "code",
      "execution_count": 10,
      "metadata": {
        "id": "qaMNmWk2tLWF"
      },
      "outputs": [
        {
          "name": "stderr",
          "output_type": "stream",
          "text": [
            "                                                                                \r"
          ]
        }
      ],
      "source": [
        "data.write.csv('Revised_Loans', header=True)"
      ]
    },
    {
      "cell_type": "code",
      "execution_count": 12,
      "metadata": {
        "colab": {
          "base_uri": "https://localhost:8080/"
        },
        "id": "lWTzxxSxvp2R",
        "outputId": "a782008c-01cd-42ae-d78a-399c15a77e05"
      },
      "outputs": [
        {
          "name": "stdout",
          "output_type": "stream",
          "text": [
            "+--------------------+--------------------+-----------+-------------------+----------+------------+--------------------+--------------+-------------+------------------+------------+-----------------------+----------------------------+-----------------------+-------------------------+----------------------+-------------------+------------+---------+\n",
            "|             Loan ID|         Customer ID|Loan Status|Current Loan Amount|      Term|Credit Score|Years in current job|Home Ownership|Annual Income|           Purpose|Monthly Debt|Years of Credit History|Months since last delinquent|Number of Open Accounts|Number of Credit Problems|Current Credit Balance|Maximum Open Credit|Bankruptcies|Tax Liens|\n",
            "+--------------------+--------------------+-----------+-------------------+----------+------------+--------------------+--------------+-------------+------------------+------------+-----------------------+----------------------------+-----------------------+-------------------------+----------------------+-------------------+------------+---------+\n",
            "|adb11017-d853-470...|fd668664-440e-45b...| Fully Paid|               4949|Short Term|         732|              1 year|          Rent|        49485|Debt Consolidation|     $709.29|                     13|                          NA|                      7|                        0|                  9574|              14248|           0|        0|\n",
            "|adb166bc-2dfa-4dc...|e75b5e31-3580-49a...| Fully Paid|              10214|Short Term|         701|           10+ years|          Rent|        51070|Debt Consolidation|   $1,140.57|                     27|                          NA|                     11|                        0|                  7867|               9700|           0|        0|\n",
            "|adb1fed1-17c3-4a5...|3be7feff-8756-425...|Charged Off|              20596| Long Term|        NULL|             3 years|          Rent|         NULL|Debt Consolidation|     $612.63|                   18.9|                          NA|                     10|                        0|                 25467|              26695|           0|        0|\n",
            "|adb1fed1-17c3-4a5...|3be7feff-8756-425...|Charged Off|              20596| Long Term|         705|             3 years|          Rent|        42991|Debt Consolidation|     $612.63|                   18.9|                          NA|                     10|                        0|                 25467|              26695|           0|        0|\n",
            "|adb2edf8-ac37-4ff...|8e123adf-568e-4cf...| Fully Paid|              13159|Short Term|         746|                 n/a|      Own Home|        28640|Debt Consolidation|     $766.13|                     37|                          27|                     16|                        0|                 27127|              84508|           0|        0|\n",
            "|adb32c2d-6711-491...|cc306ada-fd42-484...| Fully Paid|               4050|Short Term|        NULL|              1 year|          Rent|         NULL|Debt Consolidation|     $463.35|                    9.9|                          43|                     11|                        0|                 10737|              12874|           0|        0|\n",
            "|adb3e3b4-b63d-40a...|fc9a0167-515a-460...| Fully Paid|               4669|Short Term|         736|           10+ years| Home Mortgage|        34955| Home Improvements|     $236.82|                   21.7|                          NA|                      6|                        0|                 13907|              17169|           0|        0|\n",
            "|adb41de3-30a1-4b1...|fcda9c94-7482-4d9...| Fully Paid|               5978|Short Term|         718|           10+ years|      Own Home|        31882|Debt Consolidation|     $126.46|                   19.8|                          NA|                      6|                        1|                  4365|              13556|           1|        0|\n",
            "|adb431a3-bea0-45c...|065ca3c5-8e4b-4ac...| Fully Paid|               4900|Short Term|        NULL|              1 year|          Rent|         NULL|Debt Consolidation|     $389.38|                   17.8|                          51|                      9|                        1|                  4350|              11853|           1|        0|\n",
            "|adb4a6ba-170f-47d...|4f7016ba-d067-41c...|Charged Off|               5014|Short Term|        NULL|             2 years| Home Mortgage|         NULL|Debt Consolidation|     $294.79|                   15.4|                          NA|                     10|                        1|                  4573|               7014|           1|        0|\n",
            "|adb4a6ba-170f-47d...|4f7016ba-d067-41c...|Charged Off|               5014|Short Term|         718|             2 years| Home Mortgage|        45122|Debt Consolidation|     $294.79|                   15.4|                          NA|                     10|                        1|                  4573|               7014|           1|        0|\n",
            "|adb4bbbf-e70a-482...|6573233b-2336-410...|Charged Off|              11421|Short Term|         736|           10+ years|          Rent|        35690|Debt Consolidation|     $383.66|                     22|                          NA|                     10|                        0|                 11190|              21813|           0|        0|\n",
            "|adb4bbbf-e70a-482...|6573233b-2336-410...|Charged Off|              11421|Short Term|         736|           10+ years|          Rent|        35690|Debt Consolidation|     $383.66|                     22|                          NA|                     10|                        0|                 11190|              21813|           0|        0|\n",
            "|adb4e832-2aa4-4e2...|4568ab50-9865-42d...| Fully Paid|              14771|Short Term|         748|             4 years|          Rent|       246175|Debt Consolidation|   $1,157.02|                   13.1|                          NA|                     13|                        1|                  6025|              52395|           1|        0|\n",
            "|adb51f1f-07f2-414...|fa41da8e-1692-4fc...| Fully Paid|              15502|Short Term|         738|             5 years|          Rent|        66578|Debt Consolidation|   $1,270.52|                   13.9|                          NA|                     19|                        0|                 16085|              32759|           0|        0|\n",
            "|adb5aa2c-d731-40a...|3b0d7741-d40b-40d...| Fully Paid|               5920|Short Term|         730|             7 years| Home Mortgage|        29598|Debt Consolidation|     $156.87|                   13.2|                          NA|                      6|                        0|                  3626|              11734|           0|        0|\n",
            "|adb6355e-14d8-4ca...|7617e31f-8304-476...| Fully Paid|           99999999|Short Term|         725|             3 years|          Rent|        44816|Debt Consolidation|     $948.59|                   20.5|                          NA|                     10|                        0|                 21127|              55745|           0|        0|\n",
            "|adb6f34d-c576-448...|fb213df4-ddd3-4f9...|Charged Off|              11364| Long Term|        NULL|           10+ years| Home Mortgage|         NULL|     Business Loan|     $917.96|                   19.9|                          NA|                     13|                        0|                 27607|              37056|           0|        0|\n",
            "|adb6f34d-c576-448...|fb213df4-ddd3-4f9...|Charged Off|              11364| Long Term|         664|           10+ years| Home Mortgage|        78124|     Business Loan|     $917.96|                   19.9|                          NA|                     13|                        0|                 27607|              37056|           0|        0|\n",
            "|adb72de0-11b2-4a6...|10913710-e67f-42b...| Fully Paid|           99999999|Short Term|         735|              1 year|          Rent|        40544|Debt Consolidation|     $264.55|                   11.9|                          35|                     15|                        0|                  7223|              25982|           0|        0|\n",
            "+--------------------+--------------------+-----------+-------------------+----------+------------+--------------------+--------------+-------------+------------------+------------+-----------------------+----------------------------+-----------------------+-------------------------+----------------------+-------------------+------------+---------+\n",
            "only showing top 20 rows\n",
            "\n"
          ]
        }
      ],
      "source": [
        "df = spark.read.csv('Revised_Loans', header=True)\n",
        "df.show()"
      ]
    },
    {
      "cell_type": "code",
      "execution_count": 13,
      "metadata": {
        "id": "XXEb_qUEoJdz"
      },
      "outputs": [],
      "source": [
        "from pyspark.sql import functions as f"
      ]
    },
    {
      "cell_type": "markdown",
      "metadata": {
        "id": "jW6V7cLwicYq"
      },
      "source": [
        "# missing values"
      ]
    },
    {
      "cell_type": "code",
      "execution_count": 14,
      "metadata": {
        "colab": {
          "base_uri": "https://localhost:8080/"
        },
        "id": "P4i-dFrSCSJ0",
        "outputId": "3f47790f-cdcb-431a-8afc-e409eee82e7a"
      },
      "outputs": [
        {
          "name": "stderr",
          "output_type": "stream",
          "text": [
            "[Stage 8:=======>                                                   (1 + 7) / 8]\r"
          ]
        },
        {
          "name": "stdout",
          "output_type": "stream",
          "text": [
            "+-------+-----------+-----------+-------------------+----+------------+--------------------+--------------+-------------+-------+------------+-----------------------+----------------------------+-----------------------+-------------------------+----------------------+-------------------+------------+---------+\n",
            "|Loan ID|Customer ID|Loan Status|Current Loan Amount|Term|Credit Score|Years in current job|Home Ownership|Annual Income|Purpose|Monthly Debt|Years of Credit History|Months since last delinquent|Number of Open Accounts|Number of Credit Problems|Current Credit Balance|Maximum Open Credit|Bankruptcies|Tax Liens|\n",
            "+-------+-----------+-----------+-------------------+----+------------+--------------------+--------------+-------------+-------+------------+-----------------------+----------------------------+-----------------------+-------------------------+----------------------+-------------------+------------+---------+\n",
            "|      0|          0|          0|                  0|   0|       61676|                   0|             0|        61676|      0|           0|                      0|                           0|                      0|                        0|                     0|                  0|           0|        0|\n",
            "+-------+-----------+-----------+-------------------+----+------------+--------------------+--------------+-------------+-------+------------+-----------------------+----------------------------+-----------------------+-------------------------+----------------------+-------------------+------------+---------+\n",
            "\n"
          ]
        },
        {
          "name": "stderr",
          "output_type": "stream",
          "text": [
            "                                                                                \r"
          ]
        }
      ],
      "source": [
        "df.select([f.count(f.when(f.col(c).isNull(), c)).alias(c) for c in df.columns]).show()"
      ]
    },
    {
      "cell_type": "code",
      "execution_count": 15,
      "metadata": {
        "id": "N9_cuJMmbspX"
      },
      "outputs": [],
      "source": [
        "from pyspark.sql.functions import skewness"
      ]
    },
    {
      "cell_type": "code",
      "execution_count": 16,
      "metadata": {
        "colab": {
          "base_uri": "https://localhost:8080/"
        },
        "id": "RRhuZthZbfi3",
        "outputId": "1c090a17-9c67-41d8-9f3c-dc6b51e2db73"
      },
      "outputs": [
        {
          "name": "stderr",
          "output_type": "stream",
          "text": [
            "[Stage 11:=======>                                                  (1 + 7) / 8]\r"
          ]
        },
        {
          "name": "stdout",
          "output_type": "stream",
          "text": [
            "+----------------------+\n",
            "|skewness(Credit Score)|\n",
            "+----------------------+\n",
            "|    3.0383081629821693|\n",
            "+----------------------+\n",
            "\n"
          ]
        },
        {
          "name": "stderr",
          "output_type": "stream",
          "text": [
            "                                                                                \r"
          ]
        }
      ],
      "source": [
        "df.select(skewness('Credit Score')).show()"
      ]
    },
    {
      "cell_type": "code",
      "execution_count": 17,
      "metadata": {
        "colab": {
          "base_uri": "https://localhost:8080/"
        },
        "id": "PAb74XkyDoqA",
        "outputId": "31751c0d-cd94-4e21-97f7-5ba99dc3dd50"
      },
      "outputs": [
        {
          "name": "stderr",
          "output_type": "stream",
          "text": [
            "[Stage 20:=======>                                                  (1 + 7) / 8]\r"
          ]
        },
        {
          "name": "stdout",
          "output_type": "stream",
          "text": [
            "+-------+-----------+-----------+-------------------+----+------------+--------------------+--------------+-------------+-------+------------+-----------------------+----------------------------+-----------------------+-------------------------+----------------------+-------------------+------------+---------+\n",
            "|Loan ID|Customer ID|Loan Status|Current Loan Amount|Term|Credit Score|Years in current job|Home Ownership|Annual Income|Purpose|Monthly Debt|Years of Credit History|Months since last delinquent|Number of Open Accounts|Number of Credit Problems|Current Credit Balance|Maximum Open Credit|Bankruptcies|Tax Liens|\n",
            "+-------+-----------+-----------+-------------------+----+------------+--------------------+--------------+-------------+-------+------------+-----------------------+----------------------------+-----------------------+-------------------------+----------------------+-------------------+------------+---------+\n",
            "|      0|          0|          0|                  0|   0|           0|                   0|             0|            0|      0|           0|                      0|                           0|                      0|                        0|                     0|                  0|           0|        0|\n",
            "+-------+-----------+-----------+-------------------+----+------------+--------------------+--------------+-------------+-------+------------+-----------------------+----------------------------+-----------------------+-------------------------+----------------------+-------------------+------------+---------+\n",
            "\n"
          ]
        },
        {
          "name": "stderr",
          "output_type": "stream",
          "text": [
            "                                                                                \r"
          ]
        }
      ],
      "source": [
        "# imputing Credit Score and Annual Income with median Imputation for null values\n",
        "from pyspark.sql.functions import col, when, median\n",
        "# Calculate the median for Credit Score and Annual Income\n",
        "median_credit_score = df.select(median(col('Credit Score'))).collect()[0][0]\n",
        "median_annual_income = df.select(median(col('Annual Income'))).collect()[0][0]\n",
        "\n",
        "# Imputing the null values with the median\n",
        "df = df.fillna({'Credit Score': median_credit_score, 'Annual Income': median_annual_income})\n",
        "\n",
        "# Verifying if null values are imputed\n",
        "df.select([f.count(f.when(f.col(c).isNull(), c)).alias(c) for c in df.columns]).show()"
      ]
    },
    {
      "cell_type": "markdown",
      "metadata": {
        "id": "7e1yWAByiiZe"
      },
      "source": [
        "# spelling differences"
      ]
    },
    {
      "cell_type": "code",
      "execution_count": 18,
      "metadata": {
        "colab": {
          "base_uri": "https://localhost:8080/"
        },
        "id": "jmmhOaqyE1VG",
        "outputId": "367fd33a-d001-4bdc-e4eb-a248e613ff2f"
      },
      "outputs": [
        {
          "name": "stderr",
          "output_type": "stream",
          "text": [
            "[Stage 23:>                                                         (0 + 8) / 8]\r"
          ]
        },
        {
          "name": "stdout",
          "output_type": "stream",
          "text": [
            "+--------------------+-----+\n",
            "|Years in current job|count|\n",
            "+--------------------+-----+\n",
            "|             5 years|17864|\n",
            "|             9 years| 9932|\n",
            "|              1 year|16746|\n",
            "|                 n/a|11476|\n",
            "|             2 years|23462|\n",
            "|             7 years|13968|\n",
            "|             8 years|12206|\n",
            "|             4 years|16166|\n",
            "|             6 years|14597|\n",
            "|             3 years|20659|\n",
            "|           10+ years|78896|\n",
            "|            < 1 year|21012|\n",
            "+--------------------+-----+\n",
            "\n"
          ]
        },
        {
          "name": "stderr",
          "output_type": "stream",
          "text": [
            "                                                                                \r"
          ]
        }
      ],
      "source": [
        "# spelling differences\n",
        "df.groupBy('Years in current job').count().show()"
      ]
    },
    {
      "cell_type": "code",
      "execution_count": 19,
      "metadata": {
        "colab": {
          "base_uri": "https://localhost:8080/"
        },
        "id": "rZLrRC2uKVZf",
        "outputId": "b9890f77-cd4a-4401-e90e-967aed8c4352"
      },
      "outputs": [
        {
          "data": {
            "text/plain": [
              "11476"
            ]
          },
          "execution_count": 19,
          "metadata": {},
          "output_type": "execute_result"
        }
      ],
      "source": [
        "df.filter(df['Years in current job'] == 'n/a').count()\n"
      ]
    },
    {
      "cell_type": "code",
      "execution_count": 20,
      "metadata": {
        "colab": {
          "base_uri": "https://localhost:8080/"
        },
        "id": "p8_9iQixKiks",
        "outputId": "048a477a-b8d1-4d1c-a9ff-f9414b28df9a"
      },
      "outputs": [
        {
          "name": "stderr",
          "output_type": "stream",
          "text": [
            "                                                                                \r"
          ]
        },
        {
          "name": "stdout",
          "output_type": "stream",
          "text": [
            "+--------------------+-----+\n",
            "|Years in current job|count|\n",
            "+--------------------+-----+\n",
            "|             5 years|17864|\n",
            "|             9 years| 9932|\n",
            "|              1 year|16746|\n",
            "|             2 years|23462|\n",
            "|             7 years|13968|\n",
            "|             8 years|12206|\n",
            "|             4 years|16166|\n",
            "|             6 years|14597|\n",
            "|             3 years|20659|\n",
            "|           10+ years|90372|\n",
            "|            < 1 year|21012|\n",
            "+--------------------+-----+\n",
            "\n"
          ]
        },
        {
          "data": {
            "text/plain": [
              "0"
            ]
          },
          "execution_count": 20,
          "metadata": {},
          "output_type": "execute_result"
        }
      ],
      "source": [
        "# replace n/a with mode imputation\n",
        "from pyspark.sql.functions import mode\n",
        "# Find the mode of the 'Years in current job' column\n",
        "mode_value = df.select(mode(col('Years in current job'))).collect()[0][0]\n",
        "\n",
        "# Replace 'n/a' with the mode\n",
        "df = df.withColumn('Years in current job', when(col('Years in current job') == 'n/a', mode_value).otherwise(col('Years in current job')))\n",
        "\n",
        "# Verify the replacement\n",
        "df.groupBy('Years in current job').count().show()\n",
        "df.filter(df['Years in current job'] == 'n/a').count()"
      ]
    },
    {
      "cell_type": "code",
      "execution_count": 21,
      "metadata": {
        "colab": {
          "base_uri": "https://localhost:8080/"
        },
        "id": "-RrENKpEFk3a",
        "outputId": "ef28255d-abf8-41c3-a9f2-3d919018afee"
      },
      "outputs": [
        {
          "name": "stdout",
          "output_type": "stream",
          "text": [
            "+--------------+------+\n",
            "|Home Ownership| count|\n",
            "+--------------+------+\n",
            "|          Rent|109010|\n",
            "|      Own Home| 22923|\n",
            "| Home Mortgage|124477|\n",
            "|  HaveMortgage|   574|\n",
            "+--------------+------+\n",
            "\n"
          ]
        }
      ],
      "source": [
        "df.groupBy('Home Ownership').count().show()"
      ]
    },
    {
      "cell_type": "code",
      "execution_count": 22,
      "metadata": {
        "colab": {
          "base_uri": "https://localhost:8080/"
        },
        "id": "D0Zc3GExLKfC",
        "outputId": "f7ecab7b-8752-40b0-c61f-f7ab4725e345"
      },
      "outputs": [
        {
          "name": "stderr",
          "output_type": "stream",
          "text": [
            "[Stage 41:>                                                         (0 + 8) / 8]\r"
          ]
        },
        {
          "name": "stdout",
          "output_type": "stream",
          "text": [
            "+--------------+------+\n",
            "|Home Ownership| count|\n",
            "+--------------+------+\n",
            "|          Rent|109010|\n",
            "|      Own Home| 22923|\n",
            "| Home Mortgage|125051|\n",
            "+--------------+------+\n",
            "\n"
          ]
        },
        {
          "name": "stderr",
          "output_type": "stream",
          "text": [
            "                                                                                \r"
          ]
        }
      ],
      "source": [
        "df = df.replace('HaveMortgage', 'Home Mortgage')\n",
        "df.groupBy('Home Ownership').count().show()"
      ]
    },
    {
      "cell_type": "code",
      "execution_count": 23,
      "metadata": {
        "colab": {
          "base_uri": "https://localhost:8080/"
        },
        "id": "LP6QFarjF4Na",
        "outputId": "84921308-33e4-4042-e6d1-8dbe6171198b"
      },
      "outputs": [
        {
          "name": "stdout",
          "output_type": "stream",
          "text": [
            "+--------------------+------+\n",
            "|             Purpose| count|\n",
            "+--------------------+------+\n",
            "|           Buy a Car|  3276|\n",
            "|  Debt Consolidation|203911|\n",
            "|       Business Loan|  4712|\n",
            "|   Home Improvements| 14915|\n",
            "|               other| 14268|\n",
            "|               Other|  9667|\n",
            "|Educational Expenses|   267|\n",
            "|       Medical Bills|  2868|\n",
            "|         Take a Trip|  1570|\n",
            "|           Buy House|  1530|\n",
            "+--------------------+------+\n",
            "\n"
          ]
        }
      ],
      "source": [
        "df.groupBy('Purpose').count().show()"
      ]
    },
    {
      "cell_type": "code",
      "execution_count": 24,
      "metadata": {
        "colab": {
          "base_uri": "https://localhost:8080/"
        },
        "id": "MOR1blIJMMLO",
        "outputId": "d8f8284b-3c71-4b67-890f-6a89edd592d3"
      },
      "outputs": [
        {
          "name": "stdout",
          "output_type": "stream",
          "text": [
            "+--------------------+------+\n",
            "|             Purpose| count|\n",
            "+--------------------+------+\n",
            "|           Buy a Car|  3276|\n",
            "|  Debt Consolidation|203911|\n",
            "|       Business Loan|  4712|\n",
            "|   Home Improvements| 14915|\n",
            "|               Other| 23935|\n",
            "|Educational Expenses|   267|\n",
            "|       Medical Bills|  2868|\n",
            "|         Take a Trip|  1570|\n",
            "|           Buy House|  1530|\n",
            "+--------------------+------+\n",
            "\n"
          ]
        }
      ],
      "source": [
        "df = df.replace('other', 'Other')\n",
        "df.groupBy('Purpose').count().show()"
      ]
    },
    {
      "cell_type": "code",
      "execution_count": 25,
      "metadata": {
        "colab": {
          "base_uri": "https://localhost:8080/"
        },
        "id": "WJ0qkL3LGVHo",
        "outputId": "169db022-f9e8-444a-c936-3d4ecd982581"
      },
      "outputs": [
        {
          "name": "stdout",
          "output_type": "stream",
          "text": [
            "+----------------------------+-----+\n",
            "|Months since last delinquent|count|\n",
            "+----------------------------+-----+\n",
            "|                          51| 1080|\n",
            "|                           7| 2116|\n",
            "|                          54| 1086|\n",
            "|                          15| 2189|\n",
            "|                          11| 1933|\n",
            "|                          29| 1756|\n",
            "|                          69|  916|\n",
            "|                          42| 1601|\n",
            "|                          73|  969|\n",
            "|                          87|    9|\n",
            "|                          64|  975|\n",
            "|                           3| 1129|\n",
            "|                          30| 1872|\n",
            "|                          34| 1694|\n",
            "|                          59|  995|\n",
            "|                           8| 2164|\n",
            "|                          28| 1856|\n",
            "|                          22| 1857|\n",
            "|                          85|   12|\n",
            "|                          35| 1666|\n",
            "+----------------------------+-----+\n",
            "only showing top 20 rows\n",
            "\n"
          ]
        }
      ],
      "source": [
        "df.groupBy('Months since last delinquent').count().show()"
      ]
    },
    {
      "cell_type": "code",
      "execution_count": 26,
      "metadata": {
        "colab": {
          "base_uri": "https://localhost:8080/"
        },
        "id": "9BMv6YzYcQKL",
        "outputId": "523e3874-a9c0-4304-960c-ff5219e2fabd"
      },
      "outputs": [
        {
          "name": "stderr",
          "output_type": "stream",
          "text": [
            "[Stage 53:=======>                                                  (1 + 7) / 8]\r"
          ]
        },
        {
          "name": "stdout",
          "output_type": "stream",
          "text": [
            "+--------------------------------------+\n",
            "|skewness(Months since last delinquent)|\n",
            "+--------------------------------------+\n",
            "|                    0.4270324234279137|\n",
            "+--------------------------------------+\n",
            "\n"
          ]
        },
        {
          "name": "stderr",
          "output_type": "stream",
          "text": [
            "                                                                                \r"
          ]
        }
      ],
      "source": [
        "df.select(skewness('Months since last delinquent')).show()"
      ]
    },
    {
      "cell_type": "code",
      "execution_count": 27,
      "metadata": {
        "id": "pcf3CQQCNQTe"
      },
      "outputs": [],
      "source": [
        "# replace NA with mean imputation for Months since last delinquent\n",
        "from pyspark.sql.functions import mean\n",
        "# Calculate the mean of the 'Months since last delinquent' column\n",
        "mean_value = df.select(mean(col('Months since last delinquent'))).collect()[0][0]\n",
        "\n",
        "# Replace 'NA' with the mean\n",
        "df = df.withColumn('Months since last delinquent', when(col('Months since last delinquent') == 'NA', mean_value).otherwise(col('Months since last delinquent')))"
      ]
    },
    {
      "cell_type": "code",
      "execution_count": 28,
      "metadata": {
        "colab": {
          "base_uri": "https://localhost:8080/"
        },
        "id": "e9T52XiEzp3c",
        "outputId": "6f993415-8520-49bd-85ce-c4836f8be214"
      },
      "outputs": [
        {
          "name": "stderr",
          "output_type": "stream",
          "text": [
            "[Stage 59:>                                                         (0 + 8) / 8]\r"
          ]
        },
        {
          "name": "stdout",
          "output_type": "stream",
          "text": [
            "+----------------------------+-----+\n",
            "|Months since last delinquent|count|\n",
            "+----------------------------+-----+\n",
            "|                          51| 1080|\n",
            "|                           7| 2116|\n",
            "|                          54| 1086|\n",
            "|                          15| 2189|\n",
            "|                          11| 1933|\n",
            "|                          29| 1756|\n",
            "|                          69|  916|\n",
            "|                          42| 1601|\n",
            "|                          73|  969|\n",
            "|                          87|    9|\n",
            "|                          64|  975|\n",
            "|                           3| 1129|\n",
            "|                          30| 1872|\n",
            "|                          34| 1694|\n",
            "|                          59|  995|\n",
            "|                           8| 2164|\n",
            "|                          28| 1856|\n",
            "|                          22| 1857|\n",
            "|                          85|   12|\n",
            "|                          35| 1666|\n",
            "+----------------------------+-----+\n",
            "only showing top 20 rows\n",
            "\n"
          ]
        },
        {
          "name": "stderr",
          "output_type": "stream",
          "text": [
            "                                                                                \r"
          ]
        }
      ],
      "source": [
        "df.groupBy('Months since last delinquent').count().show()"
      ]
    },
    {
      "cell_type": "code",
      "execution_count": 29,
      "metadata": {
        "colab": {
          "base_uri": "https://localhost:8080/"
        },
        "id": "IqSg0UUgOYA1",
        "outputId": "03d62af0-2bea-4ae7-e5d3-9c939491a40f"
      },
      "outputs": [
        {
          "name": "stdout",
          "output_type": "stream",
          "text": [
            "+------------+------+\n",
            "|Bankruptcies| count|\n",
            "+------------+------+\n",
            "|           3|   180|\n",
            "|           0|229661|\n",
            "|          NA|   529|\n",
            "|           1| 25605|\n",
            "|           4|    33|\n",
            "|           2|   957|\n",
            "|           5|    15|\n",
            "|           6|     3|\n",
            "|           7|     1|\n",
            "+------------+------+\n",
            "\n"
          ]
        }
      ],
      "source": [
        "df.groupBy('Bankruptcies').count().show()\n"
      ]
    },
    {
      "cell_type": "code",
      "execution_count": 30,
      "metadata": {
        "id": "iolsM5pOwKj_"
      },
      "outputs": [],
      "source": [
        "# Find the mode of the 'Bankruptcies' column\n",
        "mode_bankruptcies = df.select(mode(col('Bankruptcies'))).collect()[0][0]\n",
        "\n",
        "# Replace 'NA' with the mode\n",
        "df = df.withColumn('Bankruptcies', when(col('Bankruptcies') == 'NA', mode_bankruptcies).otherwise(col('Bankruptcies')))"
      ]
    },
    {
      "cell_type": "code",
      "execution_count": 31,
      "metadata": {
        "colab": {
          "base_uri": "https://localhost:8080/"
        },
        "id": "0k_ZkWUHwl12",
        "outputId": "ab8a4e6a-86b5-4b86-f87e-fcf51b0ce1e3"
      },
      "outputs": [
        {
          "name": "stdout",
          "output_type": "stream",
          "text": [
            "+------------+------+\n",
            "|Bankruptcies| count|\n",
            "+------------+------+\n",
            "|           3|   180|\n",
            "|           0|230190|\n",
            "|           1| 25605|\n",
            "|           4|    33|\n",
            "|           2|   957|\n",
            "|           5|    15|\n",
            "|           6|     3|\n",
            "|           7|     1|\n",
            "+------------+------+\n",
            "\n"
          ]
        }
      ],
      "source": [
        "df.groupBy('Bankruptcies').count().show(30)"
      ]
    },
    {
      "cell_type": "code",
      "execution_count": 32,
      "metadata": {
        "colab": {
          "base_uri": "https://localhost:8080/"
        },
        "id": "3BGyPQ0hyj_0",
        "outputId": "3f9028ee-4dd0-4c15-83a7-7a8dbb0c49e6"
      },
      "outputs": [
        {
          "name": "stdout",
          "output_type": "stream",
          "text": [
            "+---------+------+\n",
            "|Tax Liens| count|\n",
            "+---------+------+\n",
            "|       11|     2|\n",
            "|        3|   247|\n",
            "|        0|252322|\n",
            "|       NA|    23|\n",
            "|        5|    61|\n",
            "|        6|    30|\n",
            "|        1|  3276|\n",
            "|        4|   124|\n",
            "|        2|   872|\n",
            "|        7|     6|\n",
            "|        8|     8|\n",
            "|        9|    10|\n",
            "|       10|     3|\n",
            "+---------+------+\n",
            "\n"
          ]
        }
      ],
      "source": [
        "# do val counts on Tax Liens\n",
        "df.groupBy('Tax Liens').count().show()\n"
      ]
    },
    {
      "cell_type": "code",
      "execution_count": 33,
      "metadata": {
        "id": "LSwAi1MoyInd"
      },
      "outputs": [],
      "source": [
        "# Calculate the mode of the 'Tax Liens' column\n",
        "mode_tax_liens = df.select(mode(col('Tax Liens'))).collect()[0][0]\n",
        "# Replace 'NA' with the mode\n",
        "df = df.withColumn('Tax Liens', when(col('Tax Liens') == 'NA', mode_tax_liens).otherwise(col('Tax Liens')))"
      ]
    },
    {
      "cell_type": "code",
      "execution_count": 34,
      "metadata": {
        "colab": {
          "base_uri": "https://localhost:8080/"
        },
        "id": "J6UcnL-IzUcz",
        "outputId": "0c224ae9-ccba-4e98-d7c4-ac06acf20ed0"
      },
      "outputs": [
        {
          "name": "stderr",
          "output_type": "stream",
          "text": [
            "[Stage 77:==========================================================(8 + 0) / 8]\r"
          ]
        },
        {
          "name": "stdout",
          "output_type": "stream",
          "text": [
            "+---------+------+\n",
            "|Tax Liens| count|\n",
            "+---------+------+\n",
            "|       11|     2|\n",
            "|        3|   247|\n",
            "|        0|252345|\n",
            "|        5|    61|\n",
            "|        6|    30|\n",
            "|        1|  3276|\n",
            "|        4|   124|\n",
            "|        2|   872|\n",
            "|        7|     6|\n",
            "|        8|     8|\n",
            "|        9|    10|\n",
            "|       10|     3|\n",
            "+---------+------+\n",
            "\n"
          ]
        },
        {
          "name": "stderr",
          "output_type": "stream",
          "text": [
            "                                                                                \r"
          ]
        }
      ],
      "source": [
        "df.groupBy('Tax Liens').count().show()"
      ]
    },
    {
      "cell_type": "code",
      "execution_count": 35,
      "metadata": {
        "colab": {
          "base_uri": "https://localhost:8080/"
        },
        "id": "QOgHd6_9hg5B",
        "outputId": "4bb81797-ba15-4bca-c4ad-adfd6134e569"
      },
      "outputs": [
        {
          "name": "stdout",
          "output_type": "stream",
          "text": [
            "+--------------------+--------------------+-----------+-------------------+----------+------------+--------------------+--------------+-------------+------------------+------------+-----------------------+----------------------------+-----------------------+-------------------------+----------------------+-------------------+------------+---------+\n",
            "|             Loan ID|         Customer ID|Loan Status|Current Loan Amount|      Term|Credit Score|Years in current job|Home Ownership|Annual Income|           Purpose|Monthly Debt|Years of Credit History|Months since last delinquent|Number of Open Accounts|Number of Credit Problems|Current Credit Balance|Maximum Open Credit|Bankruptcies|Tax Liens|\n",
            "+--------------------+--------------------+-----------+-------------------+----------+------------+--------------------+--------------+-------------+------------------+------------+-----------------------+----------------------------+-----------------------+-------------------------+----------------------+-------------------+------------+---------+\n",
            "|adb11017-d853-470...|fd668664-440e-45b...| Fully Paid|               4949|Short Term|         732|              1 year|          Rent|        49485|Debt Consolidation|     $709.29|                     13|           34.88145041637722|                      7|                        0|                  9574|              14248|           0|        0|\n",
            "|adb166bc-2dfa-4dc...|e75b5e31-3580-49a...| Fully Paid|              10214|Short Term|         701|           10+ years|          Rent|        51070|Debt Consolidation|   $1,140.57|                     27|           34.88145041637722|                     11|                        0|                  7867|               9700|           0|        0|\n",
            "|adb1fed1-17c3-4a5...|3be7feff-8756-425...|Charged Off|              20596| Long Term|       733.0|             3 years|          Rent|      61242.0|Debt Consolidation|     $612.63|                   18.9|           34.88145041637722|                     10|                        0|                 25467|              26695|           0|        0|\n",
            "|adb1fed1-17c3-4a5...|3be7feff-8756-425...|Charged Off|              20596| Long Term|         705|             3 years|          Rent|        42991|Debt Consolidation|     $612.63|                   18.9|           34.88145041637722|                     10|                        0|                 25467|              26695|           0|        0|\n",
            "|adb2edf8-ac37-4ff...|8e123adf-568e-4cf...| Fully Paid|              13159|Short Term|         746|           10+ years|      Own Home|        28640|Debt Consolidation|     $766.13|                     37|                          27|                     16|                        0|                 27127|              84508|           0|        0|\n",
            "|adb32c2d-6711-491...|cc306ada-fd42-484...| Fully Paid|               4050|Short Term|       733.0|              1 year|          Rent|      61242.0|Debt Consolidation|     $463.35|                    9.9|                          43|                     11|                        0|                 10737|              12874|           0|        0|\n",
            "|adb3e3b4-b63d-40a...|fc9a0167-515a-460...| Fully Paid|               4669|Short Term|         736|           10+ years| Home Mortgage|        34955| Home Improvements|     $236.82|                   21.7|           34.88145041637722|                      6|                        0|                 13907|              17169|           0|        0|\n",
            "|adb41de3-30a1-4b1...|fcda9c94-7482-4d9...| Fully Paid|               5978|Short Term|         718|           10+ years|      Own Home|        31882|Debt Consolidation|     $126.46|                   19.8|           34.88145041637722|                      6|                        1|                  4365|              13556|           1|        0|\n",
            "|adb431a3-bea0-45c...|065ca3c5-8e4b-4ac...| Fully Paid|               4900|Short Term|       733.0|              1 year|          Rent|      61242.0|Debt Consolidation|     $389.38|                   17.8|                          51|                      9|                        1|                  4350|              11853|           1|        0|\n",
            "|adb4a6ba-170f-47d...|4f7016ba-d067-41c...|Charged Off|               5014|Short Term|       733.0|             2 years| Home Mortgage|      61242.0|Debt Consolidation|     $294.79|                   15.4|           34.88145041637722|                     10|                        1|                  4573|               7014|           1|        0|\n",
            "|adb4a6ba-170f-47d...|4f7016ba-d067-41c...|Charged Off|               5014|Short Term|         718|             2 years| Home Mortgage|        45122|Debt Consolidation|     $294.79|                   15.4|           34.88145041637722|                     10|                        1|                  4573|               7014|           1|        0|\n",
            "|adb4bbbf-e70a-482...|6573233b-2336-410...|Charged Off|              11421|Short Term|         736|           10+ years|          Rent|        35690|Debt Consolidation|     $383.66|                     22|           34.88145041637722|                     10|                        0|                 11190|              21813|           0|        0|\n",
            "|adb4bbbf-e70a-482...|6573233b-2336-410...|Charged Off|              11421|Short Term|         736|           10+ years|          Rent|        35690|Debt Consolidation|     $383.66|                     22|           34.88145041637722|                     10|                        0|                 11190|              21813|           0|        0|\n",
            "|adb4e832-2aa4-4e2...|4568ab50-9865-42d...| Fully Paid|              14771|Short Term|         748|             4 years|          Rent|       246175|Debt Consolidation|   $1,157.02|                   13.1|           34.88145041637722|                     13|                        1|                  6025|              52395|           1|        0|\n",
            "|adb51f1f-07f2-414...|fa41da8e-1692-4fc...| Fully Paid|              15502|Short Term|         738|             5 years|          Rent|        66578|Debt Consolidation|   $1,270.52|                   13.9|           34.88145041637722|                     19|                        0|                 16085|              32759|           0|        0|\n",
            "|adb5aa2c-d731-40a...|3b0d7741-d40b-40d...| Fully Paid|               5920|Short Term|         730|             7 years| Home Mortgage|        29598|Debt Consolidation|     $156.87|                   13.2|           34.88145041637722|                      6|                        0|                  3626|              11734|           0|        0|\n",
            "|adb6355e-14d8-4ca...|7617e31f-8304-476...| Fully Paid|           99999999|Short Term|         725|             3 years|          Rent|        44816|Debt Consolidation|     $948.59|                   20.5|           34.88145041637722|                     10|                        0|                 21127|              55745|           0|        0|\n",
            "|adb6f34d-c576-448...|fb213df4-ddd3-4f9...|Charged Off|              11364| Long Term|       733.0|           10+ years| Home Mortgage|      61242.0|     Business Loan|     $917.96|                   19.9|           34.88145041637722|                     13|                        0|                 27607|              37056|           0|        0|\n",
            "|adb6f34d-c576-448...|fb213df4-ddd3-4f9...|Charged Off|              11364| Long Term|         664|           10+ years| Home Mortgage|        78124|     Business Loan|     $917.96|                   19.9|           34.88145041637722|                     13|                        0|                 27607|              37056|           0|        0|\n",
            "|adb72de0-11b2-4a6...|10913710-e67f-42b...| Fully Paid|           99999999|Short Term|         735|              1 year|          Rent|        40544|Debt Consolidation|     $264.55|                   11.9|                          35|                     15|                        0|                  7223|              25982|           0|        0|\n",
            "+--------------------+--------------------+-----------+-------------------+----------+------------+--------------------+--------------+-------------+------------------+------------+-----------------------+----------------------------+-----------------------+-------------------------+----------------------+-------------------+------------+---------+\n",
            "only showing top 20 rows\n",
            "\n"
          ]
        }
      ],
      "source": [
        "df.show()"
      ]
    },
    {
      "cell_type": "markdown",
      "metadata": {
        "id": "SkmL53hRjKiQ"
      },
      "source": [
        "# some enc to 0 and 1's for loan status and term"
      ]
    },
    {
      "cell_type": "code",
      "execution_count": 36,
      "metadata": {
        "colab": {
          "base_uri": "https://localhost:8080/"
        },
        "id": "6Y8M5N5F6EAZ",
        "outputId": "744e71e3-3c91-4f72-9d0a-d195080a546a"
      },
      "outputs": [
        {
          "name": "stdout",
          "output_type": "stream",
          "text": [
            "+-----------+------+\n",
            "|Loan Status| count|\n",
            "+-----------+------+\n",
            "| Fully Paid|176191|\n",
            "|Charged Off| 80793|\n",
            "+-----------+------+\n",
            "\n"
          ]
        }
      ],
      "source": [
        "df.groupBy(\"Loan Status\").count().show()"
      ]
    },
    {
      "cell_type": "code",
      "execution_count": 37,
      "metadata": {
        "id": "1Npzz-8r6UzM"
      },
      "outputs": [],
      "source": [
        "from pyspark.sql import functions as f\n",
        "loan_func = f.udf(lambda x: 1 if x=='Fully Paid' else 0) # 1 write func"
      ]
    },
    {
      "cell_type": "code",
      "execution_count": 38,
      "metadata": {
        "colab": {
          "base_uri": "https://localhost:8080/"
        },
        "id": "m0krVyTw6e98",
        "outputId": "e3948290-7dae-443c-b30c-da5e5c32d7fe"
      },
      "outputs": [
        {
          "name": "stderr",
          "output_type": "stream",
          "text": [
            "[Stage 84:>                                                         (0 + 1) / 1]\r"
          ]
        },
        {
          "name": "stdout",
          "output_type": "stream",
          "text": [
            "+--------------------+--------------------+-------------------+----------+------------+--------------------+--------------+-------------+------------------+------------+-----------------------+----------------------------+-----------------------+-------------------------+----------------------+-------------------+------------+---------+-----------+\n",
            "|             Loan ID|         Customer ID|Current Loan Amount|      Term|Credit Score|Years in current job|Home Ownership|Annual Income|           Purpose|Monthly Debt|Years of Credit History|Months since last delinquent|Number of Open Accounts|Number of Credit Problems|Current Credit Balance|Maximum Open Credit|Bankruptcies|Tax Liens|Loan Status|\n",
            "+--------------------+--------------------+-------------------+----------+------------+--------------------+--------------+-------------+------------------+------------+-----------------------+----------------------------+-----------------------+-------------------------+----------------------+-------------------+------------+---------+-----------+\n",
            "|adb11017-d853-470...|fd668664-440e-45b...|               4949|Short Term|         732|              1 year|          Rent|        49485|Debt Consolidation|     $709.29|                     13|           34.88145041637722|                      7|                        0|                  9574|              14248|           0|        0|          1|\n",
            "|adb166bc-2dfa-4dc...|e75b5e31-3580-49a...|              10214|Short Term|         701|           10+ years|          Rent|        51070|Debt Consolidation|   $1,140.57|                     27|           34.88145041637722|                     11|                        0|                  7867|               9700|           0|        0|          1|\n",
            "|adb1fed1-17c3-4a5...|3be7feff-8756-425...|              20596| Long Term|       733.0|             3 years|          Rent|      61242.0|Debt Consolidation|     $612.63|                   18.9|           34.88145041637722|                     10|                        0|                 25467|              26695|           0|        0|          0|\n",
            "|adb1fed1-17c3-4a5...|3be7feff-8756-425...|              20596| Long Term|         705|             3 years|          Rent|        42991|Debt Consolidation|     $612.63|                   18.9|           34.88145041637722|                     10|                        0|                 25467|              26695|           0|        0|          0|\n",
            "|adb2edf8-ac37-4ff...|8e123adf-568e-4cf...|              13159|Short Term|         746|           10+ years|      Own Home|        28640|Debt Consolidation|     $766.13|                     37|                          27|                     16|                        0|                 27127|              84508|           0|        0|          1|\n",
            "|adb32c2d-6711-491...|cc306ada-fd42-484...|               4050|Short Term|       733.0|              1 year|          Rent|      61242.0|Debt Consolidation|     $463.35|                    9.9|                          43|                     11|                        0|                 10737|              12874|           0|        0|          1|\n",
            "|adb3e3b4-b63d-40a...|fc9a0167-515a-460...|               4669|Short Term|         736|           10+ years| Home Mortgage|        34955| Home Improvements|     $236.82|                   21.7|           34.88145041637722|                      6|                        0|                 13907|              17169|           0|        0|          1|\n",
            "|adb41de3-30a1-4b1...|fcda9c94-7482-4d9...|               5978|Short Term|         718|           10+ years|      Own Home|        31882|Debt Consolidation|     $126.46|                   19.8|           34.88145041637722|                      6|                        1|                  4365|              13556|           1|        0|          1|\n",
            "|adb431a3-bea0-45c...|065ca3c5-8e4b-4ac...|               4900|Short Term|       733.0|              1 year|          Rent|      61242.0|Debt Consolidation|     $389.38|                   17.8|                          51|                      9|                        1|                  4350|              11853|           1|        0|          1|\n",
            "|adb4a6ba-170f-47d...|4f7016ba-d067-41c...|               5014|Short Term|       733.0|             2 years| Home Mortgage|      61242.0|Debt Consolidation|     $294.79|                   15.4|           34.88145041637722|                     10|                        1|                  4573|               7014|           1|        0|          0|\n",
            "|adb4a6ba-170f-47d...|4f7016ba-d067-41c...|               5014|Short Term|         718|             2 years| Home Mortgage|        45122|Debt Consolidation|     $294.79|                   15.4|           34.88145041637722|                     10|                        1|                  4573|               7014|           1|        0|          0|\n",
            "|adb4bbbf-e70a-482...|6573233b-2336-410...|              11421|Short Term|         736|           10+ years|          Rent|        35690|Debt Consolidation|     $383.66|                     22|           34.88145041637722|                     10|                        0|                 11190|              21813|           0|        0|          0|\n",
            "|adb4bbbf-e70a-482...|6573233b-2336-410...|              11421|Short Term|         736|           10+ years|          Rent|        35690|Debt Consolidation|     $383.66|                     22|           34.88145041637722|                     10|                        0|                 11190|              21813|           0|        0|          0|\n",
            "|adb4e832-2aa4-4e2...|4568ab50-9865-42d...|              14771|Short Term|         748|             4 years|          Rent|       246175|Debt Consolidation|   $1,157.02|                   13.1|           34.88145041637722|                     13|                        1|                  6025|              52395|           1|        0|          1|\n",
            "|adb51f1f-07f2-414...|fa41da8e-1692-4fc...|              15502|Short Term|         738|             5 years|          Rent|        66578|Debt Consolidation|   $1,270.52|                   13.9|           34.88145041637722|                     19|                        0|                 16085|              32759|           0|        0|          1|\n",
            "|adb5aa2c-d731-40a...|3b0d7741-d40b-40d...|               5920|Short Term|         730|             7 years| Home Mortgage|        29598|Debt Consolidation|     $156.87|                   13.2|           34.88145041637722|                      6|                        0|                  3626|              11734|           0|        0|          1|\n",
            "|adb6355e-14d8-4ca...|7617e31f-8304-476...|           99999999|Short Term|         725|             3 years|          Rent|        44816|Debt Consolidation|     $948.59|                   20.5|           34.88145041637722|                     10|                        0|                 21127|              55745|           0|        0|          1|\n",
            "|adb6f34d-c576-448...|fb213df4-ddd3-4f9...|              11364| Long Term|       733.0|           10+ years| Home Mortgage|      61242.0|     Business Loan|     $917.96|                   19.9|           34.88145041637722|                     13|                        0|                 27607|              37056|           0|        0|          0|\n",
            "|adb6f34d-c576-448...|fb213df4-ddd3-4f9...|              11364| Long Term|         664|           10+ years| Home Mortgage|        78124|     Business Loan|     $917.96|                   19.9|           34.88145041637722|                     13|                        0|                 27607|              37056|           0|        0|          0|\n",
            "|adb72de0-11b2-4a6...|10913710-e67f-42b...|           99999999|Short Term|         735|              1 year|          Rent|        40544|Debt Consolidation|     $264.55|                   11.9|                          35|                     15|                        0|                  7223|              25982|           0|        0|          1|\n",
            "+--------------------+--------------------+-------------------+----------+------------+--------------------+--------------+-------------+------------------+------------+-----------------------+----------------------------+-----------------------+-------------------------+----------------------+-------------------+------------+---------+-----------+\n",
            "only showing top 20 rows\n",
            "\n"
          ]
        },
        {
          "name": "stderr",
          "output_type": "stream",
          "text": [
            "                                                                                \r"
          ]
        }
      ],
      "source": [
        "df = df.withColumn('New_Loanstatus', loan_func(f.col('Loan Status'))).drop('Loan Status').withColumnRenamed('new_Loanstatus', 'Loan Status')\n",
        "df.show()"
      ]
    },
    {
      "cell_type": "code",
      "execution_count": 39,
      "metadata": {
        "colab": {
          "base_uri": "https://localhost:8080/"
        },
        "id": "bM0aQTeH6osk",
        "outputId": "277d3956-2c81-4598-ae96-6df5ef004f16"
      },
      "outputs": [
        {
          "name": "stderr",
          "output_type": "stream",
          "text": [
            "[Stage 85:>                                                         (0 + 8) / 8]\r"
          ]
        },
        {
          "name": "stdout",
          "output_type": "stream",
          "text": [
            "+-----------+------+\n",
            "|Loan Status| count|\n",
            "+-----------+------+\n",
            "|          0| 80793|\n",
            "|          1|176191|\n",
            "+-----------+------+\n",
            "\n"
          ]
        },
        {
          "name": "stderr",
          "output_type": "stream",
          "text": [
            "                                                                                \r"
          ]
        }
      ],
      "source": [
        "df.groupBy(\"Loan Status\").count().show()"
      ]
    },
    {
      "cell_type": "code",
      "execution_count": 40,
      "metadata": {
        "colab": {
          "base_uri": "https://localhost:8080/"
        },
        "id": "9oV9GLx762b-",
        "outputId": "23c6cb54-1b0e-4fa0-f9f7-852629a3c439"
      },
      "outputs": [
        {
          "name": "stdout",
          "output_type": "stream",
          "text": [
            "+----------+------+\n",
            "|      Term| count|\n",
            "+----------+------+\n",
            "| Long Term| 64352|\n",
            "|Short Term|192632|\n",
            "+----------+------+\n",
            "\n"
          ]
        }
      ],
      "source": [
        "df.groupBy(\"Term\").count().show()"
      ]
    },
    {
      "cell_type": "code",
      "execution_count": 41,
      "metadata": {
        "id": "Uv3DYMGb64Qb"
      },
      "outputs": [],
      "source": [
        "term_func = f.udf(lambda x: 1 if x=='Short Term' else 0)"
      ]
    },
    {
      "cell_type": "code",
      "execution_count": 42,
      "metadata": {
        "colab": {
          "base_uri": "https://localhost:8080/"
        },
        "id": "BnZx9i1G6-GA",
        "outputId": "66baf328-a3cd-4e26-b7e9-d391f251d2c0"
      },
      "outputs": [
        {
          "name": "stdout",
          "output_type": "stream",
          "text": [
            "+--------------------+--------------------+-------------------+------------+--------------------+--------------+-------------+------------------+------------+-----------------------+----------------------------+-----------------------+-------------------------+----------------------+-------------------+------------+---------+-----------+----+\n",
            "|             Loan ID|         Customer ID|Current Loan Amount|Credit Score|Years in current job|Home Ownership|Annual Income|           Purpose|Monthly Debt|Years of Credit History|Months since last delinquent|Number of Open Accounts|Number of Credit Problems|Current Credit Balance|Maximum Open Credit|Bankruptcies|Tax Liens|Loan Status|Term|\n",
            "+--------------------+--------------------+-------------------+------------+--------------------+--------------+-------------+------------------+------------+-----------------------+----------------------------+-----------------------+-------------------------+----------------------+-------------------+------------+---------+-----------+----+\n",
            "|adb11017-d853-470...|fd668664-440e-45b...|               4949|         732|              1 year|          Rent|        49485|Debt Consolidation|     $709.29|                     13|           34.88145041637722|                      7|                        0|                  9574|              14248|           0|        0|          1|   1|\n",
            "|adb166bc-2dfa-4dc...|e75b5e31-3580-49a...|              10214|         701|           10+ years|          Rent|        51070|Debt Consolidation|   $1,140.57|                     27|           34.88145041637722|                     11|                        0|                  7867|               9700|           0|        0|          1|   1|\n",
            "|adb1fed1-17c3-4a5...|3be7feff-8756-425...|              20596|       733.0|             3 years|          Rent|      61242.0|Debt Consolidation|     $612.63|                   18.9|           34.88145041637722|                     10|                        0|                 25467|              26695|           0|        0|          0|   0|\n",
            "|adb1fed1-17c3-4a5...|3be7feff-8756-425...|              20596|         705|             3 years|          Rent|        42991|Debt Consolidation|     $612.63|                   18.9|           34.88145041637722|                     10|                        0|                 25467|              26695|           0|        0|          0|   0|\n",
            "|adb2edf8-ac37-4ff...|8e123adf-568e-4cf...|              13159|         746|           10+ years|      Own Home|        28640|Debt Consolidation|     $766.13|                     37|                          27|                     16|                        0|                 27127|              84508|           0|        0|          1|   1|\n",
            "|adb32c2d-6711-491...|cc306ada-fd42-484...|               4050|       733.0|              1 year|          Rent|      61242.0|Debt Consolidation|     $463.35|                    9.9|                          43|                     11|                        0|                 10737|              12874|           0|        0|          1|   1|\n",
            "|adb3e3b4-b63d-40a...|fc9a0167-515a-460...|               4669|         736|           10+ years| Home Mortgage|        34955| Home Improvements|     $236.82|                   21.7|           34.88145041637722|                      6|                        0|                 13907|              17169|           0|        0|          1|   1|\n",
            "|adb41de3-30a1-4b1...|fcda9c94-7482-4d9...|               5978|         718|           10+ years|      Own Home|        31882|Debt Consolidation|     $126.46|                   19.8|           34.88145041637722|                      6|                        1|                  4365|              13556|           1|        0|          1|   1|\n",
            "|adb431a3-bea0-45c...|065ca3c5-8e4b-4ac...|               4900|       733.0|              1 year|          Rent|      61242.0|Debt Consolidation|     $389.38|                   17.8|                          51|                      9|                        1|                  4350|              11853|           1|        0|          1|   1|\n",
            "|adb4a6ba-170f-47d...|4f7016ba-d067-41c...|               5014|       733.0|             2 years| Home Mortgage|      61242.0|Debt Consolidation|     $294.79|                   15.4|           34.88145041637722|                     10|                        1|                  4573|               7014|           1|        0|          0|   1|\n",
            "|adb4a6ba-170f-47d...|4f7016ba-d067-41c...|               5014|         718|             2 years| Home Mortgage|        45122|Debt Consolidation|     $294.79|                   15.4|           34.88145041637722|                     10|                        1|                  4573|               7014|           1|        0|          0|   1|\n",
            "|adb4bbbf-e70a-482...|6573233b-2336-410...|              11421|         736|           10+ years|          Rent|        35690|Debt Consolidation|     $383.66|                     22|           34.88145041637722|                     10|                        0|                 11190|              21813|           0|        0|          0|   1|\n",
            "|adb4bbbf-e70a-482...|6573233b-2336-410...|              11421|         736|           10+ years|          Rent|        35690|Debt Consolidation|     $383.66|                     22|           34.88145041637722|                     10|                        0|                 11190|              21813|           0|        0|          0|   1|\n",
            "|adb4e832-2aa4-4e2...|4568ab50-9865-42d...|              14771|         748|             4 years|          Rent|       246175|Debt Consolidation|   $1,157.02|                   13.1|           34.88145041637722|                     13|                        1|                  6025|              52395|           1|        0|          1|   1|\n",
            "|adb51f1f-07f2-414...|fa41da8e-1692-4fc...|              15502|         738|             5 years|          Rent|        66578|Debt Consolidation|   $1,270.52|                   13.9|           34.88145041637722|                     19|                        0|                 16085|              32759|           0|        0|          1|   1|\n",
            "|adb5aa2c-d731-40a...|3b0d7741-d40b-40d...|               5920|         730|             7 years| Home Mortgage|        29598|Debt Consolidation|     $156.87|                   13.2|           34.88145041637722|                      6|                        0|                  3626|              11734|           0|        0|          1|   1|\n",
            "|adb6355e-14d8-4ca...|7617e31f-8304-476...|           99999999|         725|             3 years|          Rent|        44816|Debt Consolidation|     $948.59|                   20.5|           34.88145041637722|                     10|                        0|                 21127|              55745|           0|        0|          1|   1|\n",
            "|adb6f34d-c576-448...|fb213df4-ddd3-4f9...|              11364|       733.0|           10+ years| Home Mortgage|      61242.0|     Business Loan|     $917.96|                   19.9|           34.88145041637722|                     13|                        0|                 27607|              37056|           0|        0|          0|   0|\n",
            "|adb6f34d-c576-448...|fb213df4-ddd3-4f9...|              11364|         664|           10+ years| Home Mortgage|        78124|     Business Loan|     $917.96|                   19.9|           34.88145041637722|                     13|                        0|                 27607|              37056|           0|        0|          0|   0|\n",
            "|adb72de0-11b2-4a6...|10913710-e67f-42b...|           99999999|         735|              1 year|          Rent|        40544|Debt Consolidation|     $264.55|                   11.9|                          35|                     15|                        0|                  7223|              25982|           0|        0|          1|   1|\n",
            "+--------------------+--------------------+-------------------+------------+--------------------+--------------+-------------+------------------+------------+-----------------------+----------------------------+-----------------------+-------------------------+----------------------+-------------------+------------+---------+-----------+----+\n",
            "only showing top 20 rows\n",
            "\n"
          ]
        }
      ],
      "source": [
        "df = df.withColumn('New_Term', term_func(f.col('Term'))).drop('Term').withColumnRenamed('new_Term', 'Term')\n",
        "df.show()"
      ]
    },
    {
      "cell_type": "code",
      "execution_count": 43,
      "metadata": {
        "colab": {
          "base_uri": "https://localhost:8080/"
        },
        "id": "JrOtBy3Z7Iwy",
        "outputId": "e730c170-e99d-434c-c168-f9ac30e77288"
      },
      "outputs": [
        {
          "name": "stderr",
          "output_type": "stream",
          "text": [
            "[Stage 92:>                                                         (0 + 8) / 8]\r"
          ]
        },
        {
          "name": "stdout",
          "output_type": "stream",
          "text": [
            "+----+------+\n",
            "|Term| count|\n",
            "+----+------+\n",
            "|   0| 64352|\n",
            "|   1|192632|\n",
            "+----+------+\n",
            "\n"
          ]
        },
        {
          "name": "stderr",
          "output_type": "stream",
          "text": [
            "                                                                                \r"
          ]
        }
      ],
      "source": [
        "df.groupBy(\"Term\").count().show()"
      ]
    },
    {
      "cell_type": "markdown",
      "metadata": {
        "id": "xhsgoLIajVb2"
      },
      "source": [
        "# Data types: Changing strings to int for numeric cols"
      ]
    },
    {
      "cell_type": "code",
      "execution_count": 44,
      "metadata": {
        "colab": {
          "base_uri": "https://localhost:8080/"
        },
        "id": "rV7DmOHz7K8e",
        "outputId": "5095990a-4c74-4f1c-dd64-091b4ed89b58"
      },
      "outputs": [
        {
          "name": "stderr",
          "output_type": "stream",
          "text": [
            "[Stage 95:>                                                         (0 + 8) / 8]\r"
          ]
        },
        {
          "name": "stdout",
          "output_type": "stream",
          "text": [
            "+--------------------+-----+\n",
            "|Years in current job|count|\n",
            "+--------------------+-----+\n",
            "|             5 years|17864|\n",
            "|             9 years| 9932|\n",
            "|              1 year|16746|\n",
            "|             2 years|23462|\n",
            "|             7 years|13968|\n",
            "|             8 years|12206|\n",
            "|             4 years|16166|\n",
            "|             6 years|14597|\n",
            "|             3 years|20659|\n",
            "|           10+ years|90372|\n",
            "|            < 1 year|21012|\n",
            "+--------------------+-----+\n",
            "\n"
          ]
        },
        {
          "name": "stderr",
          "output_type": "stream",
          "text": [
            "                                                                                \r"
          ]
        }
      ],
      "source": [
        "df.groupBy(\"Years in current job\").count().show()"
      ]
    },
    {
      "cell_type": "code",
      "execution_count": 45,
      "metadata": {
        "colab": {
          "base_uri": "https://localhost:8080/"
        },
        "id": "-OK4OHi67TtV",
        "outputId": "7b24caf2-486b-415d-b5d3-c6c258d4581d"
      },
      "outputs": [
        {
          "name": "stdout",
          "output_type": "stream",
          "text": [
            "+--------------------+--------------------+-------------------+------------+--------------------+--------------+-------------+------------------+------------+-----------------------+----------------------------+-----------------------+-------------------------+----------------------+-------------------+------------+---------+-----------+----+\n",
            "|             Loan ID|         Customer ID|Current Loan Amount|Credit Score|Years in current job|Home Ownership|Annual Income|           Purpose|Monthly Debt|Years of Credit History|Months since last delinquent|Number of Open Accounts|Number of Credit Problems|Current Credit Balance|Maximum Open Credit|Bankruptcies|Tax Liens|Loan Status|Term|\n",
            "+--------------------+--------------------+-------------------+------------+--------------------+--------------+-------------+------------------+------------+-----------------------+----------------------------+-----------------------+-------------------------+----------------------+-------------------+------------+---------+-----------+----+\n",
            "|adb11017-d853-470...|fd668664-440e-45b...|               4949|         732|                   1|          Rent|        49485|Debt Consolidation|     $709.29|                     13|           34.88145041637722|                      7|                        0|                  9574|              14248|           0|        0|          1|   1|\n",
            "|adb166bc-2dfa-4dc...|e75b5e31-3580-49a...|              10214|         701|                  10|          Rent|        51070|Debt Consolidation|   $1,140.57|                     27|           34.88145041637722|                     11|                        0|                  7867|               9700|           0|        0|          1|   1|\n",
            "|adb1fed1-17c3-4a5...|3be7feff-8756-425...|              20596|       733.0|                   3|          Rent|      61242.0|Debt Consolidation|     $612.63|                   18.9|           34.88145041637722|                     10|                        0|                 25467|              26695|           0|        0|          0|   0|\n",
            "|adb1fed1-17c3-4a5...|3be7feff-8756-425...|              20596|         705|                   3|          Rent|        42991|Debt Consolidation|     $612.63|                   18.9|           34.88145041637722|                     10|                        0|                 25467|              26695|           0|        0|          0|   0|\n",
            "|adb2edf8-ac37-4ff...|8e123adf-568e-4cf...|              13159|         746|                  10|      Own Home|        28640|Debt Consolidation|     $766.13|                     37|                          27|                     16|                        0|                 27127|              84508|           0|        0|          1|   1|\n",
            "|adb32c2d-6711-491...|cc306ada-fd42-484...|               4050|       733.0|                   1|          Rent|      61242.0|Debt Consolidation|     $463.35|                    9.9|                          43|                     11|                        0|                 10737|              12874|           0|        0|          1|   1|\n",
            "|adb3e3b4-b63d-40a...|fc9a0167-515a-460...|               4669|         736|                  10| Home Mortgage|        34955| Home Improvements|     $236.82|                   21.7|           34.88145041637722|                      6|                        0|                 13907|              17169|           0|        0|          1|   1|\n",
            "|adb41de3-30a1-4b1...|fcda9c94-7482-4d9...|               5978|         718|                  10|      Own Home|        31882|Debt Consolidation|     $126.46|                   19.8|           34.88145041637722|                      6|                        1|                  4365|              13556|           1|        0|          1|   1|\n",
            "|adb431a3-bea0-45c...|065ca3c5-8e4b-4ac...|               4900|       733.0|                   1|          Rent|      61242.0|Debt Consolidation|     $389.38|                   17.8|                          51|                      9|                        1|                  4350|              11853|           1|        0|          1|   1|\n",
            "|adb4a6ba-170f-47d...|4f7016ba-d067-41c...|               5014|       733.0|                   2| Home Mortgage|      61242.0|Debt Consolidation|     $294.79|                   15.4|           34.88145041637722|                     10|                        1|                  4573|               7014|           1|        0|          0|   1|\n",
            "|adb4a6ba-170f-47d...|4f7016ba-d067-41c...|               5014|         718|                   2| Home Mortgage|        45122|Debt Consolidation|     $294.79|                   15.4|           34.88145041637722|                     10|                        1|                  4573|               7014|           1|        0|          0|   1|\n",
            "|adb4bbbf-e70a-482...|6573233b-2336-410...|              11421|         736|                  10|          Rent|        35690|Debt Consolidation|     $383.66|                     22|           34.88145041637722|                     10|                        0|                 11190|              21813|           0|        0|          0|   1|\n",
            "|adb4bbbf-e70a-482...|6573233b-2336-410...|              11421|         736|                  10|          Rent|        35690|Debt Consolidation|     $383.66|                     22|           34.88145041637722|                     10|                        0|                 11190|              21813|           0|        0|          0|   1|\n",
            "|adb4e832-2aa4-4e2...|4568ab50-9865-42d...|              14771|         748|                   4|          Rent|       246175|Debt Consolidation|   $1,157.02|                   13.1|           34.88145041637722|                     13|                        1|                  6025|              52395|           1|        0|          1|   1|\n",
            "|adb51f1f-07f2-414...|fa41da8e-1692-4fc...|              15502|         738|                   5|          Rent|        66578|Debt Consolidation|   $1,270.52|                   13.9|           34.88145041637722|                     19|                        0|                 16085|              32759|           0|        0|          1|   1|\n",
            "|adb5aa2c-d731-40a...|3b0d7741-d40b-40d...|               5920|         730|                   7| Home Mortgage|        29598|Debt Consolidation|     $156.87|                   13.2|           34.88145041637722|                      6|                        0|                  3626|              11734|           0|        0|          1|   1|\n",
            "|adb6355e-14d8-4ca...|7617e31f-8304-476...|           99999999|         725|                   3|          Rent|        44816|Debt Consolidation|     $948.59|                   20.5|           34.88145041637722|                     10|                        0|                 21127|              55745|           0|        0|          1|   1|\n",
            "|adb6f34d-c576-448...|fb213df4-ddd3-4f9...|              11364|       733.0|                  10| Home Mortgage|      61242.0|     Business Loan|     $917.96|                   19.9|           34.88145041637722|                     13|                        0|                 27607|              37056|           0|        0|          0|   0|\n",
            "|adb6f34d-c576-448...|fb213df4-ddd3-4f9...|              11364|         664|                  10| Home Mortgage|        78124|     Business Loan|     $917.96|                   19.9|           34.88145041637722|                     13|                        0|                 27607|              37056|           0|        0|          0|   0|\n",
            "|adb72de0-11b2-4a6...|10913710-e67f-42b...|           99999999|         735|                   1|          Rent|        40544|Debt Consolidation|     $264.55|                   11.9|                          35|                     15|                        0|                  7223|              25982|           0|        0|          1|   1|\n",
            "+--------------------+--------------------+-------------------+------------+--------------------+--------------+-------------+------------------+------------+-----------------------+----------------------------+-----------------------+-------------------------+----------------------+-------------------+------------+---------+-----------+----+\n",
            "only showing top 20 rows\n",
            "\n"
          ]
        }
      ],
      "source": [
        "df = df.replace('10+ years', '10').replace('9 years', '9').replace('8 years', '8').replace('7 years', '7').replace(\n",
        "    '6 years', '6').replace('5 years', '5').replace('4 years', '4').replace('3 years', '3').replace('2 years', '2').replace(\n",
        "    '1 year', '1').replace('< 1 year', '0')\n",
        "\n",
        "df.show()"
      ]
    },
    {
      "cell_type": "code",
      "execution_count": 46,
      "metadata": {
        "colab": {
          "base_uri": "https://localhost:8080/"
        },
        "id": "cUE9Dacs7ejE",
        "outputId": "a474b708-b9f8-4eda-dff4-684e621270ce"
      },
      "outputs": [
        {
          "name": "stdout",
          "output_type": "stream",
          "text": [
            "root\n",
            " |-- Loan ID: string (nullable = true)\n",
            " |-- Customer ID: string (nullable = true)\n",
            " |-- Current Loan Amount: string (nullable = true)\n",
            " |-- Credit Score: string (nullable = false)\n",
            " |-- Years in current job: string (nullable = true)\n",
            " |-- Home Ownership: string (nullable = true)\n",
            " |-- Annual Income: string (nullable = false)\n",
            " |-- Purpose: string (nullable = true)\n",
            " |-- Monthly Debt: string (nullable = true)\n",
            " |-- Years of Credit History: string (nullable = true)\n",
            " |-- Months since last delinquent: string (nullable = true)\n",
            " |-- Number of Open Accounts: string (nullable = true)\n",
            " |-- Number of Credit Problems: string (nullable = true)\n",
            " |-- Current Credit Balance: string (nullable = true)\n",
            " |-- Maximum Open Credit: string (nullable = true)\n",
            " |-- Bankruptcies: string (nullable = true)\n",
            " |-- Tax Liens: string (nullable = true)\n",
            " |-- Loan Status: string (nullable = true)\n",
            " |-- Term: string (nullable = true)\n",
            "\n"
          ]
        }
      ],
      "source": [
        "df.printSchema()\n"
      ]
    },
    {
      "cell_type": "code",
      "execution_count": 47,
      "metadata": {
        "id": "zxK6flV6qiRb"
      },
      "outputs": [],
      "source": [
        "# change the data types that need to change to int\n",
        "df = df.withColumn('Current Loan Amount', col('Current Loan Amount').cast('int'))\n",
        "df = df.withColumn('Credit Score', col('Credit Score').cast('int'))\n",
        "df = df.withColumn('Years in current job', col('Years in current job').cast('int'))\n",
        "df = df.withColumn('Annual Income', col('Annual Income').cast('int'))\n",
        "df = df.withColumn('Years of Credit History', col('Years of Credit History').cast('int'))\n",
        "df = df.withColumn('Months since las delinquent', col('Months since last delinquent').cast('int'))\n",
        "df = df.withColumn('Number of Open Accounts', col('Number of Open Accounts').cast('int'))\n",
        "df = df.withColumn('Number of Credit Problems', col('Number of Credit Problems').cast('int'))\n",
        "df = df.withColumn('Current Credit Balance', col('Current Credit Balance').cast('int'))\n",
        "df = df.withColumn('Maximum Open Credit', col('Maximum Open Credit').cast('int'))\n",
        "df = df.withColumn('Bankruptcies', col('Bankruptcies').cast('int'))\n",
        "df = df.withColumn('Tax Liens', col('Tax Liens').cast('int'))\n",
        "df = df.withColumn('Loan Status', col('Loan Status').cast('int'))\n",
        "df = df.withColumn('Term', col('Term').cast('int'))"
      ]
    },
    {
      "cell_type": "code",
      "execution_count": 48,
      "metadata": {
        "id": "wmApVn44Ys4k"
      },
      "outputs": [],
      "source": [
        "from pyspark.sql.functions import col, regexp_replace\n",
        "# Remove '$' and ',' from 'Monthly Debt' and then cast to integer\n",
        "df = df.withColumn('Monthly Debt', regexp_replace(col('Monthly Debt'), '[$,]', '').cast('int'))"
      ]
    },
    {
      "cell_type": "code",
      "execution_count": 49,
      "metadata": {
        "colab": {
          "base_uri": "https://localhost:8080/"
        },
        "id": "GXhUIpfaYH_U",
        "outputId": "535c6ce0-10cc-4f0c-b572-26bc38a7f32f"
      },
      "outputs": [
        {
          "name": "stdout",
          "output_type": "stream",
          "text": [
            "+--------------------+--------------------+-------------------+------------+--------------------+--------------+-------------+------------------+------------+-----------------------+----------------------------+-----------------------+-------------------------+----------------------+-------------------+------------+---------+-----------+----+---------------------------+\n",
            "|             Loan ID|         Customer ID|Current Loan Amount|Credit Score|Years in current job|Home Ownership|Annual Income|           Purpose|Monthly Debt|Years of Credit History|Months since last delinquent|Number of Open Accounts|Number of Credit Problems|Current Credit Balance|Maximum Open Credit|Bankruptcies|Tax Liens|Loan Status|Term|Months since las delinquent|\n",
            "+--------------------+--------------------+-------------------+------------+--------------------+--------------+-------------+------------------+------------+-----------------------+----------------------------+-----------------------+-------------------------+----------------------+-------------------+------------+---------+-----------+----+---------------------------+\n",
            "|adb11017-d853-470...|fd668664-440e-45b...|               4949|         732|                   1|          Rent|        49485|Debt Consolidation|         709|                     13|           34.88145041637722|                      7|                        0|                  9574|              14248|           0|        0|          1|   1|                         34|\n",
            "|adb166bc-2dfa-4dc...|e75b5e31-3580-49a...|              10214|         701|                  10|          Rent|        51070|Debt Consolidation|        1140|                     27|           34.88145041637722|                     11|                        0|                  7867|               9700|           0|        0|          1|   1|                         34|\n",
            "|adb1fed1-17c3-4a5...|3be7feff-8756-425...|              20596|         733|                   3|          Rent|        61242|Debt Consolidation|         612|                     18|           34.88145041637722|                     10|                        0|                 25467|              26695|           0|        0|          0|   0|                         34|\n",
            "|adb1fed1-17c3-4a5...|3be7feff-8756-425...|              20596|         705|                   3|          Rent|        42991|Debt Consolidation|         612|                     18|           34.88145041637722|                     10|                        0|                 25467|              26695|           0|        0|          0|   0|                         34|\n",
            "|adb2edf8-ac37-4ff...|8e123adf-568e-4cf...|              13159|         746|                  10|      Own Home|        28640|Debt Consolidation|         766|                     37|                          27|                     16|                        0|                 27127|              84508|           0|        0|          1|   1|                         27|\n",
            "|adb32c2d-6711-491...|cc306ada-fd42-484...|               4050|         733|                   1|          Rent|        61242|Debt Consolidation|         463|                      9|                          43|                     11|                        0|                 10737|              12874|           0|        0|          1|   1|                         43|\n",
            "|adb3e3b4-b63d-40a...|fc9a0167-515a-460...|               4669|         736|                  10| Home Mortgage|        34955| Home Improvements|         236|                     21|           34.88145041637722|                      6|                        0|                 13907|              17169|           0|        0|          1|   1|                         34|\n",
            "|adb41de3-30a1-4b1...|fcda9c94-7482-4d9...|               5978|         718|                  10|      Own Home|        31882|Debt Consolidation|         126|                     19|           34.88145041637722|                      6|                        1|                  4365|              13556|           1|        0|          1|   1|                         34|\n",
            "|adb431a3-bea0-45c...|065ca3c5-8e4b-4ac...|               4900|         733|                   1|          Rent|        61242|Debt Consolidation|         389|                     17|                          51|                      9|                        1|                  4350|              11853|           1|        0|          1|   1|                         51|\n",
            "|adb4a6ba-170f-47d...|4f7016ba-d067-41c...|               5014|         733|                   2| Home Mortgage|        61242|Debt Consolidation|         294|                     15|           34.88145041637722|                     10|                        1|                  4573|               7014|           1|        0|          0|   1|                         34|\n",
            "|adb4a6ba-170f-47d...|4f7016ba-d067-41c...|               5014|         718|                   2| Home Mortgage|        45122|Debt Consolidation|         294|                     15|           34.88145041637722|                     10|                        1|                  4573|               7014|           1|        0|          0|   1|                         34|\n",
            "|adb4bbbf-e70a-482...|6573233b-2336-410...|              11421|         736|                  10|          Rent|        35690|Debt Consolidation|         383|                     22|           34.88145041637722|                     10|                        0|                 11190|              21813|           0|        0|          0|   1|                         34|\n",
            "|adb4bbbf-e70a-482...|6573233b-2336-410...|              11421|         736|                  10|          Rent|        35690|Debt Consolidation|         383|                     22|           34.88145041637722|                     10|                        0|                 11190|              21813|           0|        0|          0|   1|                         34|\n",
            "|adb4e832-2aa4-4e2...|4568ab50-9865-42d...|              14771|         748|                   4|          Rent|       246175|Debt Consolidation|        1157|                     13|           34.88145041637722|                     13|                        1|                  6025|              52395|           1|        0|          1|   1|                         34|\n",
            "|adb51f1f-07f2-414...|fa41da8e-1692-4fc...|              15502|         738|                   5|          Rent|        66578|Debt Consolidation|        1270|                     13|           34.88145041637722|                     19|                        0|                 16085|              32759|           0|        0|          1|   1|                         34|\n",
            "|adb5aa2c-d731-40a...|3b0d7741-d40b-40d...|               5920|         730|                   7| Home Mortgage|        29598|Debt Consolidation|         156|                     13|           34.88145041637722|                      6|                        0|                  3626|              11734|           0|        0|          1|   1|                         34|\n",
            "|adb6355e-14d8-4ca...|7617e31f-8304-476...|           99999999|         725|                   3|          Rent|        44816|Debt Consolidation|         948|                     20|           34.88145041637722|                     10|                        0|                 21127|              55745|           0|        0|          1|   1|                         34|\n",
            "|adb6f34d-c576-448...|fb213df4-ddd3-4f9...|              11364|         733|                  10| Home Mortgage|        61242|     Business Loan|         917|                     19|           34.88145041637722|                     13|                        0|                 27607|              37056|           0|        0|          0|   0|                         34|\n",
            "|adb6f34d-c576-448...|fb213df4-ddd3-4f9...|              11364|         664|                  10| Home Mortgage|        78124|     Business Loan|         917|                     19|           34.88145041637722|                     13|                        0|                 27607|              37056|           0|        0|          0|   0|                         34|\n",
            "|adb72de0-11b2-4a6...|10913710-e67f-42b...|           99999999|         735|                   1|          Rent|        40544|Debt Consolidation|         264|                     11|                          35|                     15|                        0|                  7223|              25982|           0|        0|          1|   1|                         35|\n",
            "+--------------------+--------------------+-------------------+------------+--------------------+--------------+-------------+------------------+------------+-----------------------+----------------------------+-----------------------+-------------------------+----------------------+-------------------+------------+---------+-----------+----+---------------------------+\n",
            "only showing top 20 rows\n",
            "\n"
          ]
        }
      ],
      "source": [
        "df.show()"
      ]
    },
    {
      "cell_type": "markdown",
      "metadata": {
        "id": "a5IbymBdjfNk"
      },
      "source": [
        "# Check for Duplicated Loan ID"
      ]
    },
    {
      "cell_type": "code",
      "execution_count": 50,
      "metadata": {
        "colab": {
          "base_uri": "https://localhost:8080/"
        },
        "id": "oytq6d9rjfNk",
        "outputId": "04e572a3-1c0a-4085-e7dc-11bfb2b39997"
      },
      "outputs": [
        {
          "name": "stderr",
          "output_type": "stream",
          "text": [
            "[Stage 100:=======>                                                 (1 + 7) / 8]\r"
          ]
        },
        {
          "name": "stdout",
          "output_type": "stream",
          "text": [
            "+--------------------+-----+\n",
            "|             Loan ID|count|\n",
            "+--------------------+-----+\n",
            "|aec59c68-7343-4d6...|    2|\n",
            "|af26c079-de36-401...|    2|\n",
            "|af4756d1-1ae2-415...|    2|\n",
            "|b026e161-8610-4d8...|    2|\n",
            "|b3283146-3f46-462...|    2|\n",
            "|b46e333a-6b4e-404...|    2|\n",
            "|b503c204-d286-47a...|    2|\n",
            "|b70e8680-99b7-462...|    2|\n",
            "|b8371de0-7f29-43f...|    2|\n",
            "|b89de3b7-309c-40f...|    2|\n",
            "|b9ffd985-11b9-4b7...|    2|\n",
            "|ba47e175-4bc0-48f...|    2|\n",
            "|bc8a6586-b467-449...|    2|\n",
            "|bc9fde3c-fa8b-4b8...|    2|\n",
            "|c131c0b6-83c6-4c1...|    2|\n",
            "|c145e11d-f975-420...|    2|\n",
            "|c331bc9d-5916-417...|    2|\n",
            "|c37b979f-3bf3-4bf...|    2|\n",
            "|c3986284-5ab5-463...|    2|\n",
            "|c3f0f698-b042-4bb...|    2|\n",
            "+--------------------+-----+\n",
            "only showing top 20 rows\n",
            "\n"
          ]
        },
        {
          "name": "stderr",
          "output_type": "stream",
          "text": [
            "                                                                                \r"
          ]
        }
      ],
      "source": [
        "from pyspark.sql.functions import col, count\n",
        "df.groupBy('Loan ID').agg(count(\"*\").alias(\"count\")).filter(col(\"count\") > 1).show()\n",
        "# # drop duplicated Loan ID without"
      ]
    },
    {
      "cell_type": "code",
      "execution_count": 51,
      "metadata": {
        "colab": {
          "base_uri": "https://localhost:8080/"
        },
        "id": "0gQZ9WEvjfNl",
        "outputId": "fd7dccb6-4276-4c5c-b4eb-efc35cce37f3"
      },
      "outputs": [
        {
          "name": "stdout",
          "output_type": "stream",
          "text": [
            "+--------------------+--------------------+-------------------+------------+--------------------+--------------+-------------+------------------+------------+-----------------------+----------------------------+-----------------------+-------------------------+----------------------+-------------------+------------+---------+-----------+----+---------------------------+\n",
            "|             Loan ID|         Customer ID|Current Loan Amount|Credit Score|Years in current job|Home Ownership|Annual Income|           Purpose|Monthly Debt|Years of Credit History|Months since last delinquent|Number of Open Accounts|Number of Credit Problems|Current Credit Balance|Maximum Open Credit|Bankruptcies|Tax Liens|Loan Status|Term|Months since las delinquent|\n",
            "+--------------------+--------------------+-------------------+------------+--------------------+--------------+-------------+------------------+------------+-----------------------+----------------------------+-----------------------+-------------------------+----------------------+-------------------+------------+---------+-----------+----+---------------------------+\n",
            "|adb11017-d853-470...|fd668664-440e-45b...|               4949|         732|                   1|          Rent|        49485|Debt Consolidation|         709|                     13|           34.88145041637722|                      7|                        0|                  9574|              14248|           0|        0|          1|   1|                         34|\n",
            "|adb166bc-2dfa-4dc...|e75b5e31-3580-49a...|              10214|         701|                  10|          Rent|        51070|Debt Consolidation|        1140|                     27|           34.88145041637722|                     11|                        0|                  7867|               9700|           0|        0|          1|   1|                         34|\n",
            "|adb1fed1-17c3-4a5...|3be7feff-8756-425...|              20596|         733|                   3|          Rent|        61242|Debt Consolidation|         612|                     18|           34.88145041637722|                     10|                        0|                 25467|              26695|           0|        0|          0|   0|                         34|\n",
            "|adb1fed1-17c3-4a5...|3be7feff-8756-425...|              20596|         705|                   3|          Rent|        42991|Debt Consolidation|         612|                     18|           34.88145041637722|                     10|                        0|                 25467|              26695|           0|        0|          0|   0|                         34|\n",
            "|adb2edf8-ac37-4ff...|8e123adf-568e-4cf...|              13159|         746|                  10|      Own Home|        28640|Debt Consolidation|         766|                     37|                          27|                     16|                        0|                 27127|              84508|           0|        0|          1|   1|                         27|\n",
            "|adb32c2d-6711-491...|cc306ada-fd42-484...|               4050|         733|                   1|          Rent|        61242|Debt Consolidation|         463|                      9|                          43|                     11|                        0|                 10737|              12874|           0|        0|          1|   1|                         43|\n",
            "|adb3e3b4-b63d-40a...|fc9a0167-515a-460...|               4669|         736|                  10| Home Mortgage|        34955| Home Improvements|         236|                     21|           34.88145041637722|                      6|                        0|                 13907|              17169|           0|        0|          1|   1|                         34|\n",
            "|adb41de3-30a1-4b1...|fcda9c94-7482-4d9...|               5978|         718|                  10|      Own Home|        31882|Debt Consolidation|         126|                     19|           34.88145041637722|                      6|                        1|                  4365|              13556|           1|        0|          1|   1|                         34|\n",
            "|adb431a3-bea0-45c...|065ca3c5-8e4b-4ac...|               4900|         733|                   1|          Rent|        61242|Debt Consolidation|         389|                     17|                          51|                      9|                        1|                  4350|              11853|           1|        0|          1|   1|                         51|\n",
            "|adb4a6ba-170f-47d...|4f7016ba-d067-41c...|               5014|         733|                   2| Home Mortgage|        61242|Debt Consolidation|         294|                     15|           34.88145041637722|                     10|                        1|                  4573|               7014|           1|        0|          0|   1|                         34|\n",
            "|adb4a6ba-170f-47d...|4f7016ba-d067-41c...|               5014|         718|                   2| Home Mortgage|        45122|Debt Consolidation|         294|                     15|           34.88145041637722|                     10|                        1|                  4573|               7014|           1|        0|          0|   1|                         34|\n",
            "|adb4bbbf-e70a-482...|6573233b-2336-410...|              11421|         736|                  10|          Rent|        35690|Debt Consolidation|         383|                     22|           34.88145041637722|                     10|                        0|                 11190|              21813|           0|        0|          0|   1|                         34|\n",
            "|adb4bbbf-e70a-482...|6573233b-2336-410...|              11421|         736|                  10|          Rent|        35690|Debt Consolidation|         383|                     22|           34.88145041637722|                     10|                        0|                 11190|              21813|           0|        0|          0|   1|                         34|\n",
            "|adb4e832-2aa4-4e2...|4568ab50-9865-42d...|              14771|         748|                   4|          Rent|       246175|Debt Consolidation|        1157|                     13|           34.88145041637722|                     13|                        1|                  6025|              52395|           1|        0|          1|   1|                         34|\n",
            "|adb51f1f-07f2-414...|fa41da8e-1692-4fc...|              15502|         738|                   5|          Rent|        66578|Debt Consolidation|        1270|                     13|           34.88145041637722|                     19|                        0|                 16085|              32759|           0|        0|          1|   1|                         34|\n",
            "|adb5aa2c-d731-40a...|3b0d7741-d40b-40d...|               5920|         730|                   7| Home Mortgage|        29598|Debt Consolidation|         156|                     13|           34.88145041637722|                      6|                        0|                  3626|              11734|           0|        0|          1|   1|                         34|\n",
            "|adb6355e-14d8-4ca...|7617e31f-8304-476...|           99999999|         725|                   3|          Rent|        44816|Debt Consolidation|         948|                     20|           34.88145041637722|                     10|                        0|                 21127|              55745|           0|        0|          1|   1|                         34|\n",
            "|adb6f34d-c576-448...|fb213df4-ddd3-4f9...|              11364|         733|                  10| Home Mortgage|        61242|     Business Loan|         917|                     19|           34.88145041637722|                     13|                        0|                 27607|              37056|           0|        0|          0|   0|                         34|\n",
            "|adb6f34d-c576-448...|fb213df4-ddd3-4f9...|              11364|         664|                  10| Home Mortgage|        78124|     Business Loan|         917|                     19|           34.88145041637722|                     13|                        0|                 27607|              37056|           0|        0|          0|   0|                         34|\n",
            "|adb72de0-11b2-4a6...|10913710-e67f-42b...|           99999999|         735|                   1|          Rent|        40544|Debt Consolidation|         264|                     11|                          35|                     15|                        0|                  7223|              25982|           0|        0|          1|   1|                         35|\n",
            "+--------------------+--------------------+-------------------+------------+--------------------+--------------+-------------+------------------+------------+-----------------------+----------------------------+-----------------------+-------------------------+----------------------+-------------------+------------+---------+-----------+----+---------------------------+\n",
            "only showing top 20 rows\n",
            "\n"
          ]
        }
      ],
      "source": [
        "df.show()"
      ]
    },
    {
      "cell_type": "code",
      "execution_count": 52,
      "metadata": {
        "id": "i1Ky4Br_jfNl"
      },
      "outputs": [],
      "source": [
        "from pyspark.sql.functions import max\n",
        "\n",
        "# Group by 'Loan ID' and select the row w the max val to deal w the duplicated Loan ID\n",
        "df = df.groupBy('Loan ID').agg(max('Loan Status').alias('Loan Status'),\n",
        "                               max('Current Loan Amount').alias('Current Loan Amount'),\n",
        "                               max('Term').alias('Term'),\n",
        "                               max('Credit Score').alias('Credit Score'),\n",
        "                               max('Years in current job').alias('Years in current job'),\n",
        "                               max('Home Ownership').alias('Home Ownership'),\n",
        "                               max('Annual Income').alias('Annual Income'),\n",
        "                               max('Purpose').alias('Purpose'),\n",
        "                               max('Monthly Debt').alias('Monthly Debt'),\n",
        "                               max('Years of Credit History'). alias('Years of Credit History'),\n",
        "                               max('Months since last delinquent').alias('Months since last delinquent'),\n",
        "                               max('Number of Open Accounts').alias('Number of Open Accounts'),\n",
        "                               max('Number of Credit Problems').alias('Number of Credit Problems'),\n",
        "                               max('Current Credit Balance').alias('Current Credit Balance'),\n",
        "                               max('Maximum Open Credit').alias('Maximum Open Credit'),\n",
        "                               max('Bankruptcies').alias('Bankruptcies'),\n",
        "                               max('Tax Liens').alias('Tax Liens'))"
      ]
    },
    {
      "cell_type": "code",
      "execution_count": 53,
      "metadata": {
        "colab": {
          "base_uri": "https://localhost:8080/"
        },
        "id": "tcgcPwV3jfNl",
        "outputId": "577981b9-689d-4551-8a78-c11671b2bbec"
      },
      "outputs": [
        {
          "name": "stderr",
          "output_type": "stream",
          "text": [
            "                                                                                \r"
          ]
        },
        {
          "data": {
            "text/plain": [
              "215700"
            ]
          },
          "execution_count": 53,
          "metadata": {},
          "output_type": "execute_result"
        }
      ],
      "source": [
        "df.count()"
      ]
    },
    {
      "cell_type": "code",
      "execution_count": 54,
      "metadata": {
        "colab": {
          "base_uri": "https://localhost:8080/"
        },
        "id": "WADRSq4AjfNl",
        "outputId": "8aa3dc9c-2fd6-4535-fa28-03f6f671711d"
      },
      "outputs": [
        {
          "name": "stdout",
          "output_type": "stream",
          "text": [
            "+-------+-----+\n",
            "|Loan ID|count|\n",
            "+-------+-----+\n",
            "+-------+-----+\n",
            "\n"
          ]
        }
      ],
      "source": [
        "df.groupBy('Loan ID').agg(count(\"*\").alias(\"count\")).filter(col(\"count\") > 1).show()"
      ]
    },
    {
      "cell_type": "code",
      "execution_count": 55,
      "metadata": {
        "colab": {
          "base_uri": "https://localhost:8080/"
        },
        "id": "o0_3SnZSjfNl",
        "outputId": "c794b8b2-d522-4f5e-8912-56868ccba4d6"
      },
      "outputs": [
        {
          "name": "stderr",
          "output_type": "stream",
          "text": [
            "[Stage 117:==========================================>              (6 + 2) / 8]\r"
          ]
        },
        {
          "name": "stdout",
          "output_type": "stream",
          "text": [
            "+--------------------+-----------+-------------------+----+------------+--------------------+--------------+-------------+------------------+------------+-----------------------+----------------------------+-----------------------+-------------------------+----------------------+-------------------+------------+---------+\n",
            "|             Loan ID|Loan Status|Current Loan Amount|Term|Credit Score|Years in current job|Home Ownership|Annual Income|           Purpose|Monthly Debt|Years of Credit History|Months since last delinquent|Number of Open Accounts|Number of Credit Problems|Current Credit Balance|Maximum Open Credit|Bankruptcies|Tax Liens|\n",
            "+--------------------+-----------+-------------------+----+------------+--------------------+--------------+-------------+------------------+------------+-----------------------+----------------------------+-----------------------+-------------------------+----------------------+-------------------+------------+---------+\n",
            "|00035328-2636-439...|          0|              11604|   1|         729|                   6| Home Mortgage|        35315|Debt Consolidation|         662|                     15|           34.88145041637722|                     12|                        0|                 17092|              20743|           0|        0|\n",
            "|0003fbfd-33ee-4ae...|          1|           99999999|   1|         745|                  10|          Rent|        39476|             Other|         483|                     15|                          79|                     12|                        0|                  4636|              21171|           0|        0|\n",
            "|00045ecd-59e9-475...|          1|              11863|   1|         734|                  10|      Own Home|        69202|Debt Consolidation|         859|                     30|           34.88145041637722|                      7|                        0|                  9959|              16995|           0|        0|\n",
            "|0004f37b-5859-40f...|          1|           99999999|   1|         724|                   1|      Own Home|        34297| Home Improvements|         777|                     13|                           2|                     12|                        0|                  6720|              53335|           0|        0|\n",
            "|0005f59b-5f14-429...|          1|              10529|   1|         739|                  10|          Rent|        56694|Debt Consolidation|        1081|                     15|                          15|                     16|                        0|                 24461|              42392|           0|        0|\n",
            "|000c0c27-1961-433...|          0|               6463|   1|        7320|                   1|      Own Home|        61242|Debt Consolidation|         633|                     19|                          74|                      9|                        0|                  8025|              24317|           0|        0|\n",
            "|000c16df-c24f-41c...|          1|               7068|   1|         733|                  10|      Own Home|        61242|             Other|         425|                     21|           34.88145041637722|                      7|                        1|                  4178|               6850|           1|        0|\n",
            "|000e0a70-8a32-465...|          1|              11714|   1|         737|                   0|          Rent|        38046|Debt Consolidation|         881|                     10|           34.88145041637722|                     15|                        0|                 11112|              14413|           0|        0|\n",
            "|000eae45-2495-4c7...|          1|           99999999|   1|         730|                   2|          Rent|        35861|Debt Consolidation|         552|                     30|                          28|                      8|                        0|                  4654|               7679|           0|        0|\n",
            "|000f1140-ef9f-42f...|          0|               6007|   1|        7180|                  10| Home Mortgage|        61242|Debt Consolidation|         538|                     23|                          13|                      6|                        0|                  5077|               7811|           0|        0|\n",
            "|0011cbe4-d160-473...|          1|              12208|   1|         727|                   3|          Rent|        61038|Debt Consolidation|         461|                     10|           34.88145041637722|                     11|                        2|                  5010|              14650|           2|        0|\n",
            "|002108b4-df83-45a...|          1|              10207|   1|         729|                   1|          Rent|        51035|Debt Consolidation|         199|                     13|           34.88145041637722|                      8|                        0|                  6486|               9902|           0|        0|\n",
            "|0024fb75-c992-43d...|          1|           99999999|   0|         722|                   0|          Rent|        52573|Debt Consolidation|         644|                     25|                          63|                     20|                        0|                 16866|              33397|           0|        0|\n",
            "|002c9a36-e930-421...|          1|              19688|   1|         733|                   5| Home Mortgage|        61242|             Other|         739|                     19|                          34|                     10|                        0|                  2529|              23201|           0|        0|\n",
            "|002d9230-a4a2-4a5...|          0|               9795|   1|         687|                   6|          Rent|        27496|             Other|         788|                      6|                          40|                      4|                        0|                  2290|               4626|           0|        0|\n",
            "|002dcbd5-b5d4-445...|          1|              19438|   0|         733|                   5| Home Mortgage|        61242|Debt Consolidation|         381|                     27|                           4|                      5|                        0|                 14938|              18128|           0|        0|\n",
            "|003070ca-d7f9-4b4...|          1|               7906|   1|         733|                   2|          Rent|        61242|Debt Consolidation|         753|                     11|                          29|                     13|                        0|                  8766|              16115|           0|        0|\n",
            "|0033df7c-3350-4e2...|          1|           99999999|   1|         743|                   1|          Rent|        35060|Debt Consolidation|         756|                     19|                          22|                     10|                        0|                  3591|               5628|           0|        0|\n",
            "|00391d96-5c4c-4b9...|          1|           99999999|   1|         737|                   6|          Rent|        42017|Debt Consolidation|         773|                     26|           34.88145041637722|                     11|                        0|                 12663|              18220|           0|        0|\n",
            "|003be4e8-9c28-4f0...|          1|              24970|   1|         733|                   6| Home Mortgage|        61242|Debt Consolidation|        1389|                     25|                          69|                     14|                        0|                 26761|              31372|           0|        0|\n",
            "+--------------------+-----------+-------------------+----+------------+--------------------+--------------+-------------+------------------+------------+-----------------------+----------------------------+-----------------------+-------------------------+----------------------+-------------------+------------+---------+\n",
            "only showing top 20 rows\n",
            "\n"
          ]
        },
        {
          "name": "stderr",
          "output_type": "stream",
          "text": [
            "                                                                                \r"
          ]
        }
      ],
      "source": [
        "df.show()"
      ]
    },
    {
      "cell_type": "markdown",
      "metadata": {
        "id": "RH-r7XQKi-2h"
      },
      "source": [
        "# Credit Score Higher Than 800"
      ]
    },
    {
      "cell_type": "code",
      "execution_count": 56,
      "metadata": {
        "colab": {
          "base_uri": "https://localhost:8080/"
        },
        "id": "31fKpB2C3man",
        "outputId": "526d3193-7dbd-4124-c8b6-1d6e78cf6271"
      },
      "outputs": [
        {
          "name": "stderr",
          "output_type": "stream",
          "text": [
            "[Stage 120:=======>                                                 (1 + 7) / 8]\r"
          ]
        },
        {
          "name": "stdout",
          "output_type": "stream",
          "text": [
            "+--------------------+-----------+-------------------+----+------------+--------------------+--------------+-------------+------------------+------------+-----------------------+----------------------------+-----------------------+-------------------------+----------------------+-------------------+------------+---------+\n",
            "|             Loan ID|Loan Status|Current Loan Amount|Term|Credit Score|Years in current job|Home Ownership|Annual Income|           Purpose|Monthly Debt|Years of Credit History|Months since last delinquent|Number of Open Accounts|Number of Credit Problems|Current Credit Balance|Maximum Open Credit|Bankruptcies|Tax Liens|\n",
            "+--------------------+-----------+-------------------+----+------------+--------------------+--------------+-------------+------------------+------------+-----------------------+----------------------------+-----------------------+-------------------------+----------------------+-------------------+------------+---------+\n",
            "|00035328-2636-439...|          0|              11604|   1|       729.0|                   6| Home Mortgage|        35315|Debt Consolidation|         662|                     15|           34.88145041637722|                     12|                        0|                 17092|              20743|           0|        0|\n",
            "|0003fbfd-33ee-4ae...|          1|           99999999|   1|       745.0|                  10|          Rent|        39476|             Other|         483|                     15|                          79|                     12|                        0|                  4636|              21171|           0|        0|\n",
            "|00045ecd-59e9-475...|          1|              11863|   1|       734.0|                  10|      Own Home|        69202|Debt Consolidation|         859|                     30|           34.88145041637722|                      7|                        0|                  9959|              16995|           0|        0|\n",
            "|0004f37b-5859-40f...|          1|           99999999|   1|       724.0|                   1|      Own Home|        34297| Home Improvements|         777|                     13|                           2|                     12|                        0|                  6720|              53335|           0|        0|\n",
            "|0005f59b-5f14-429...|          1|              10529|   1|       739.0|                  10|          Rent|        56694|Debt Consolidation|        1081|                     15|                          15|                     16|                        0|                 24461|              42392|           0|        0|\n",
            "|000c0c27-1961-433...|          0|               6463|   1|       732.0|                   1|      Own Home|        61242|Debt Consolidation|         633|                     19|                          74|                      9|                        0|                  8025|              24317|           0|        0|\n",
            "|000c16df-c24f-41c...|          1|               7068|   1|       733.0|                  10|      Own Home|        61242|             Other|         425|                     21|           34.88145041637722|                      7|                        1|                  4178|               6850|           1|        0|\n",
            "|000e0a70-8a32-465...|          1|              11714|   1|       737.0|                   0|          Rent|        38046|Debt Consolidation|         881|                     10|           34.88145041637722|                     15|                        0|                 11112|              14413|           0|        0|\n",
            "|000eae45-2495-4c7...|          1|           99999999|   1|       730.0|                   2|          Rent|        35861|Debt Consolidation|         552|                     30|                          28|                      8|                        0|                  4654|               7679|           0|        0|\n",
            "|000f1140-ef9f-42f...|          0|               6007|   1|       718.0|                  10| Home Mortgage|        61242|Debt Consolidation|         538|                     23|                          13|                      6|                        0|                  5077|               7811|           0|        0|\n",
            "|0011cbe4-d160-473...|          1|              12208|   1|       727.0|                   3|          Rent|        61038|Debt Consolidation|         461|                     10|           34.88145041637722|                     11|                        2|                  5010|              14650|           2|        0|\n",
            "|002108b4-df83-45a...|          1|              10207|   1|       729.0|                   1|          Rent|        51035|Debt Consolidation|         199|                     13|           34.88145041637722|                      8|                        0|                  6486|               9902|           0|        0|\n",
            "|0024fb75-c992-43d...|          1|           99999999|   0|       722.0|                   0|          Rent|        52573|Debt Consolidation|         644|                     25|                          63|                     20|                        0|                 16866|              33397|           0|        0|\n",
            "|002c9a36-e930-421...|          1|              19688|   1|       733.0|                   5| Home Mortgage|        61242|             Other|         739|                     19|                          34|                     10|                        0|                  2529|              23201|           0|        0|\n",
            "|002d9230-a4a2-4a5...|          0|               9795|   1|       687.0|                   6|          Rent|        27496|             Other|         788|                      6|                          40|                      4|                        0|                  2290|               4626|           0|        0|\n",
            "|002dcbd5-b5d4-445...|          1|              19438|   0|       733.0|                   5| Home Mortgage|        61242|Debt Consolidation|         381|                     27|                           4|                      5|                        0|                 14938|              18128|           0|        0|\n",
            "|003070ca-d7f9-4b4...|          1|               7906|   1|       733.0|                   2|          Rent|        61242|Debt Consolidation|         753|                     11|                          29|                     13|                        0|                  8766|              16115|           0|        0|\n",
            "|0033df7c-3350-4e2...|          1|           99999999|   1|       743.0|                   1|          Rent|        35060|Debt Consolidation|         756|                     19|                          22|                     10|                        0|                  3591|               5628|           0|        0|\n",
            "|00391d96-5c4c-4b9...|          1|           99999999|   1|       737.0|                   6|          Rent|        42017|Debt Consolidation|         773|                     26|           34.88145041637722|                     11|                        0|                 12663|              18220|           0|        0|\n",
            "|003be4e8-9c28-4f0...|          1|              24970|   1|       733.0|                   6| Home Mortgage|        61242|Debt Consolidation|        1389|                     25|                          69|                     14|                        0|                 26761|              31372|           0|        0|\n",
            "+--------------------+-----------+-------------------+----+------------+--------------------+--------------+-------------+------------------+------------+-----------------------+----------------------------+-----------------------+-------------------------+----------------------+-------------------+------------+---------+\n",
            "only showing top 20 rows\n",
            "\n"
          ]
        },
        {
          "name": "stderr",
          "output_type": "stream",
          "text": [
            "                                                                                \r"
          ]
        }
      ],
      "source": [
        "# Credit Score higher than 800 needs to be divided by 10\n",
        "df = df.withColumn('Credit Score', when(col('Credit Score') > 800, col('Credit Score') / 10).otherwise(col('Credit Score')))\n",
        "df.show()\n"
      ]
    },
    {
      "cell_type": "code",
      "execution_count": 57,
      "metadata": {
        "colab": {
          "base_uri": "https://localhost:8080/"
        },
        "id": "AdABVuLD5nUa",
        "outputId": "374c1ba2-437c-4249-9212-20e4d45242ea"
      },
      "outputs": [
        {
          "name": "stderr",
          "output_type": "stream",
          "text": [
            "[Stage 123:>                                                        (0 + 8) / 8]\r"
          ]
        },
        {
          "name": "stdout",
          "output_type": "stream",
          "text": [
            "+------------+-----+\n",
            "|Credit Score|count|\n",
            "+------------+-----+\n",
            "|       692.0|  695|\n",
            "|       596.0|   28|\n",
            "|       720.0| 1840|\n",
            "|       735.0| 3477|\n",
            "|       608.0|   42|\n",
            "|       702.0|  962|\n",
            "|       650.0|  160|\n",
            "|       729.0| 2827|\n",
            "|       594.0|   25|\n",
            "|       677.0|  378|\n",
            "|       699.0|  963|\n",
            "|       724.0| 2155|\n",
            "|       663.0|  277|\n",
            "|       611.0|   44|\n",
            "|       708.0| 1195|\n",
            "|       643.0|  127|\n",
            "|       681.0|  454|\n",
            "|       685.0|  475|\n",
            "|       625.0|   82|\n",
            "|       741.0| 5343|\n",
            "+------------+-----+\n",
            "only showing top 20 rows\n",
            "\n"
          ]
        },
        {
          "name": "stderr",
          "output_type": "stream",
          "text": [
            "                                                                                \r"
          ]
        }
      ],
      "source": [
        "df.groupBy('Credit Score').count().show()"
      ]
    },
    {
      "cell_type": "markdown",
      "metadata": {
        "id": "xi1P1qpQjrL6"
      },
      "source": [
        "# ft engineering"
      ]
    },
    {
      "cell_type": "code",
      "execution_count": 58,
      "metadata": {
        "colab": {
          "base_uri": "https://localhost:8080/"
        },
        "id": "D_hUmiizgaHc",
        "outputId": "bc0f070c-d197-49e6-9bdb-864ca1cd8da5"
      },
      "outputs": [
        {
          "name": "stderr",
          "output_type": "stream",
          "text": [
            "[Stage 129:===================================>                     (5 + 3) / 8]\r"
          ]
        },
        {
          "name": "stdout",
          "output_type": "stream",
          "text": [
            "+--------------------+-----------+-------------------+----+------------+--------------------+--------------+-------------+------------------+------------+-----------------------+----------------------------+-----------------------+-------------------------+----------------------+-------------------+------------+---------+-------------------+\n",
            "|             Loan ID|Loan Status|Current Loan Amount|Term|Credit Score|Years in current job|Home Ownership|Annual Income|           Purpose|Monthly Debt|Years of Credit History|Months since last delinquent|Number of Open Accounts|Number of Credit Problems|Current Credit Balance|Maximum Open Credit|Bankruptcies|Tax Liens| Credit Utilization|\n",
            "+--------------------+-----------+-------------------+----+------------+--------------------+--------------+-------------+------------------+------------+-----------------------+----------------------------+-----------------------+-------------------------+----------------------+-------------------+------------+---------+-------------------+\n",
            "|00035328-2636-439...|          0|              11604|   1|       729.0|                   6| Home Mortgage|        35315|Debt Consolidation|         662|                     15|           34.88145041637722|                     12|                        0|                 17092|              20743|           0|        0| 0.8239888155040255|\n",
            "|0003fbfd-33ee-4ae...|          1|           99999999|   1|       745.0|                  10|          Rent|        39476|             Other|         483|                     15|                          79|                     12|                        0|                  4636|              21171|           0|        0| 0.2189787917434226|\n",
            "|00045ecd-59e9-475...|          1|              11863|   1|       734.0|                  10|      Own Home|        69202|Debt Consolidation|         859|                     30|           34.88145041637722|                      7|                        0|                  9959|              16995|           0|        0| 0.5859958811415122|\n",
            "|0004f37b-5859-40f...|          1|           99999999|   1|       724.0|                   1|      Own Home|        34297| Home Improvements|         777|                     13|                           2|                     12|                        0|                  6720|              53335|           0|        0|0.12599606262304303|\n",
            "|0005f59b-5f14-429...|          1|              10529|   1|       739.0|                  10|          Rent|        56694|Debt Consolidation|        1081|                     15|                          15|                     16|                        0|                 24461|              42392|           0|        0| 0.5770192489148896|\n",
            "|000c0c27-1961-433...|          0|               6463|   1|       732.0|                   1|      Own Home|        61242|Debt Consolidation|         633|                     19|                          74|                      9|                        0|                  8025|              24317|           0|        0| 0.3300160381626023|\n",
            "|000c16df-c24f-41c...|          1|               7068|   1|       733.0|                  10|      Own Home|        61242|             Other|         425|                     21|           34.88145041637722|                      7|                        1|                  4178|               6850|           1|        0| 0.6099270072992701|\n",
            "|000e0a70-8a32-465...|          1|              11714|   1|       737.0|                   0|          Rent|        38046|Debt Consolidation|         881|                     10|           34.88145041637722|                     15|                        0|                 11112|              14413|           0|        0|  0.770970651495178|\n",
            "|000eae45-2495-4c7...|          1|           99999999|   1|       730.0|                   2|          Rent|        35861|Debt Consolidation|         552|                     30|                          28|                      8|                        0|                  4654|               7679|           0|        0| 0.6060684985024092|\n",
            "|000f1140-ef9f-42f...|          0|               6007|   1|       718.0|                  10| Home Mortgage|        61242|Debt Consolidation|         538|                     23|                          13|                      6|                        0|                  5077|               7811|           0|        0| 0.6499807963128921|\n",
            "|0011cbe4-d160-473...|          1|              12208|   1|       727.0|                   3|          Rent|        61038|Debt Consolidation|         461|                     10|           34.88145041637722|                     11|                        2|                  5010|              14650|           2|        0|0.34197952218430033|\n",
            "|002108b4-df83-45a...|          1|              10207|   1|       729.0|                   1|          Rent|        51035|Debt Consolidation|         199|                     13|           34.88145041637722|                      8|                        0|                  6486|               9902|           0|        0| 0.6550191880428197|\n",
            "|0024fb75-c992-43d...|          1|           99999999|   0|       722.0|                   0|          Rent|        52573|Debt Consolidation|         644|                     25|                          63|                     20|                        0|                 16866|              33397|           0|        0| 0.5050154205467557|\n",
            "|002c9a36-e930-421...|          1|              19688|   1|       733.0|                   5| Home Mortgage|        61242|             Other|         739|                     19|                          34|                     10|                        0|                  2529|              23201|           0|        0|0.10900392224473084|\n",
            "|002d9230-a4a2-4a5...|          0|               9795|   1|       687.0|                   6|          Rent|        27496|             Other|         788|                      6|                          40|                      4|                        0|                  2290|               4626|           0|        0| 0.4950281020319931|\n",
            "|002dcbd5-b5d4-445...|          1|              19438|   0|       733.0|                   5| Home Mortgage|        61242|Debt Consolidation|         381|                     27|                           4|                      5|                        0|                 14938|              18128|           0|        0| 0.8240291262135923|\n",
            "|003070ca-d7f9-4b4...|          1|               7906|   1|       733.0|                   2|          Rent|        61242|Debt Consolidation|         753|                     11|                          29|                     13|                        0|                  8766|              16115|           0|        0| 0.5439652497672975|\n",
            "|0033df7c-3350-4e2...|          1|           99999999|   1|       743.0|                   1|          Rent|        35060|Debt Consolidation|         756|                     19|                          22|                     10|                        0|                  3591|               5628|           0|        0| 0.6380597014925373|\n",
            "|00391d96-5c4c-4b9...|          1|           99999999|   1|       737.0|                   6|          Rent|        42017|Debt Consolidation|         773|                     26|           34.88145041637722|                     11|                        0|                 12663|              18220|           0|        0| 0.6950054884742042|\n",
            "|003be4e8-9c28-4f0...|          1|              24970|   1|       733.0|                   6| Home Mortgage|        61242|Debt Consolidation|        1389|                     25|                          69|                     14|                        0|                 26761|              31372|           0|        0| 0.8530218028815504|\n",
            "+--------------------+-----------+-------------------+----+------------+--------------------+--------------+-------------+------------------+------------+-----------------------+----------------------------+-----------------------+-------------------------+----------------------+-------------------+------------+---------+-------------------+\n",
            "only showing top 20 rows\n",
            "\n"
          ]
        },
        {
          "name": "stderr",
          "output_type": "stream",
          "text": [
            "                                                                                \r"
          ]
        }
      ],
      "source": [
        "# ft enginneering: Credit Utilization\n",
        "df = df.withColumn('Credit Utilization', df['Current Credit Balance'] / df['Maximum Open Credit'])\n",
        "df.show()"
      ]
    },
    {
      "cell_type": "code",
      "execution_count": 59,
      "metadata": {
        "colab": {
          "base_uri": "https://localhost:8080/"
        },
        "id": "c1o8ciSBgmAg",
        "outputId": "8e8af346-d00d-4c1c-c0db-cd943eaef30e"
      },
      "outputs": [
        {
          "name": "stderr",
          "output_type": "stream",
          "text": [
            "[Stage 132:>                                                        (0 + 8) / 8]\r"
          ]
        },
        {
          "name": "stdout",
          "output_type": "stream",
          "text": [
            "+--------------------+-----------+-------------------+----+------------+--------------------+--------------+-------------+------------------+------------+-----------------------+----------------------------+-----------------------+-------------------------+----------------------+-------------------+------------+---------+-------------------+-------------------------+\n",
            "|             Loan ID|Loan Status|Current Loan Amount|Term|Credit Score|Years in current job|Home Ownership|Annual Income|           Purpose|Monthly Debt|Years of Credit History|Months since last delinquent|Number of Open Accounts|Number of Credit Problems|Current Credit Balance|Maximum Open Credit|Bankruptcies|Tax Liens| Credit Utilization|Credit % of Annual Income|\n",
            "+--------------------+-----------+-------------------+----+------------+--------------------+--------------+-------------+------------------+------------+-----------------------+----------------------------+-----------------------+-------------------------+----------------------+-------------------+------------+---------+-------------------+-------------------------+\n",
            "|00035328-2636-439...|          0|              11604|   1|       729.0|                   6| Home Mortgage|        35315|Debt Consolidation|         662|                     15|           34.88145041637722|                     12|                        0|                 17092|              20743|           0|        0| 0.8239888155040255|        48.39869743734957|\n",
            "|0003fbfd-33ee-4ae...|          1|           99999999|   1|       745.0|                  10|          Rent|        39476|             Other|         483|                     15|                          79|                     12|                        0|                  4636|              21171|           0|        0| 0.2189787917434226|       11.743844361130813|\n",
            "|00045ecd-59e9-475...|          1|              11863|   1|       734.0|                  10|      Own Home|        69202|Debt Consolidation|         859|                     30|           34.88145041637722|                      7|                        0|                  9959|              16995|           0|        0| 0.5859958811415122|       14.391202566399816|\n",
            "|0004f37b-5859-40f...|          1|           99999999|   1|       724.0|                   1|      Own Home|        34297| Home Improvements|         777|                     13|                           2|                     12|                        0|                  6720|              53335|           0|        0|0.12599606262304303|       19.593550456308133|\n",
            "|0005f59b-5f14-429...|          1|              10529|   1|       739.0|                  10|          Rent|        56694|Debt Consolidation|        1081|                     15|                          15|                     16|                        0|                 24461|              42392|           0|        0| 0.5770192489148896|       43.145659152644015|\n",
            "|000c0c27-1961-433...|          0|               6463|   1|       732.0|                   1|      Own Home|        61242|Debt Consolidation|         633|                     19|                          74|                      9|                        0|                  8025|              24317|           0|        0| 0.3300160381626023|       13.103752326834526|\n",
            "|000c16df-c24f-41c...|          1|               7068|   1|       733.0|                  10|      Own Home|        61242|             Other|         425|                     21|           34.88145041637722|                      7|                        1|                  4178|               6850|           1|        0| 0.6099270072992701|        6.822115541621764|\n",
            "|000e0a70-8a32-465...|          1|              11714|   1|       737.0|                   0|          Rent|        38046|Debt Consolidation|         881|                     10|           34.88145041637722|                     15|                        0|                 11112|              14413|           0|        0|  0.770970651495178|       29.206749724018295|\n",
            "|000eae45-2495-4c7...|          1|           99999999|   1|       730.0|                   2|          Rent|        35861|Debt Consolidation|         552|                     30|                          28|                      8|                        0|                  4654|               7679|           0|        0| 0.6060684985024092|       12.977886840857755|\n",
            "|000f1140-ef9f-42f...|          0|               6007|   1|       718.0|                  10| Home Mortgage|        61242|Debt Consolidation|         538|                     23|                          13|                      6|                        0|                  5077|               7811|           0|        0| 0.6499807963128921|        8.290062375493942|\n",
            "|0011cbe4-d160-473...|          1|              12208|   1|       727.0|                   3|          Rent|        61038|Debt Consolidation|         461|                     10|           34.88145041637722|                     11|                        2|                  5010|              14650|           2|        0|0.34197952218430033|         8.20800157279072|\n",
            "|002108b4-df83-45a...|          1|              10207|   1|       729.0|                   1|          Rent|        51035|Debt Consolidation|         199|                     13|           34.88145041637722|                      8|                        0|                  6486|               9902|           0|        0| 0.6550191880428197|       12.708925247379248|\n",
            "|0024fb75-c992-43d...|          1|           99999999|   0|       722.0|                   0|          Rent|        52573|Debt Consolidation|         644|                     25|                          63|                     20|                        0|                 16866|              33397|           0|        0| 0.5050154205467557|       32.081106271279936|\n",
            "|002c9a36-e930-421...|          1|              19688|   1|       733.0|                   5| Home Mortgage|        61242|             Other|         739|                     19|                          34|                     10|                        0|                  2529|              23201|           0|        0|0.10900392224473084|        4.129518957578133|\n",
            "|002d9230-a4a2-4a5...|          0|               9795|   1|       687.0|                   6|          Rent|        27496|             Other|         788|                      6|                          40|                      4|                        0|                  2290|               4626|           0|        0| 0.4950281020319931|        8.328484143148094|\n",
            "|002dcbd5-b5d4-445...|          1|              19438|   0|       733.0|                   5| Home Mortgage|        61242|Debt Consolidation|         381|                     27|                           4|                      5|                        0|                 14938|              18128|           0|        0| 0.8240291262135923|       24.391757290748178|\n",
            "|003070ca-d7f9-4b4...|          1|               7906|   1|       733.0|                   2|          Rent|        61242|Debt Consolidation|         753|                     11|                          29|                     13|                        0|                  8766|              16115|           0|        0| 0.5439652497672975|       14.313706280003919|\n",
            "|0033df7c-3350-4e2...|          1|           99999999|   1|       743.0|                   1|          Rent|        35060|Debt Consolidation|         756|                     19|                          22|                     10|                        0|                  3591|               5628|           0|        0| 0.6380597014925373|       10.242441528807758|\n",
            "|00391d96-5c4c-4b9...|          1|           99999999|   1|       737.0|                   6|          Rent|        42017|Debt Consolidation|         773|                     26|           34.88145041637722|                     11|                        0|                 12663|              18220|           0|        0| 0.6950054884742042|       30.137801366113713|\n",
            "|003be4e8-9c28-4f0...|          1|              24970|   1|       733.0|                   6| Home Mortgage|        61242|Debt Consolidation|        1389|                     25|                          69|                     14|                        0|                 26761|              31372|           0|        0| 0.8530218028815504|       43.697135952450935|\n",
            "+--------------------+-----------+-------------------+----+------------+--------------------+--------------+-------------+------------------+------------+-----------------------+----------------------------+-----------------------+-------------------------+----------------------+-------------------+------------+---------+-------------------+-------------------------+\n",
            "only showing top 20 rows\n",
            "\n"
          ]
        },
        {
          "name": "stderr",
          "output_type": "stream",
          "text": [
            "                                                                                \r"
          ]
        }
      ],
      "source": [
        "# ft enginneering: Credit % of Annual Income\n",
        "df = df.withColumn('Credit % of Annual Income', (df['Current Credit Balance'] / df['Annual Income']) * 100)\n",
        "df.show()"
      ]
    }
  ],
  "metadata": {
    "colab": {
      "collapsed_sections": [
        "jW6V7cLwicYq",
        "7e1yWAByiiZe",
        "RH-r7XQKi-2h"
      ],
      "provenance": []
    },
    "kernelspec": {
      "display_name": "base",
      "language": "python",
      "name": "python3"
    },
    "language_info": {
      "codemirror_mode": {
        "name": "ipython",
        "version": 3
      },
      "file_extension": ".py",
      "mimetype": "text/x-python",
      "name": "python",
      "nbconvert_exporter": "python",
      "pygments_lexer": "ipython3",
      "version": "3.11.5"
    }
  },
  "nbformat": 4,
  "nbformat_minor": 0
}
