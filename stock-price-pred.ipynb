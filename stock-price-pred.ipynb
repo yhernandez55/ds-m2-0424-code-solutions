{
 "cells": [
  {
   "cell_type": "markdown",
   "metadata": {},
   "source": [
    "# code"
   ]
  },
  {
   "cell_type": "code",
   "execution_count": 1,
   "metadata": {},
   "outputs": [
    {
     "name": "stdout",
     "output_type": "stream",
     "text": [
      "Requirement already satisfied: yfinance in /Users/yanellyhernandez/anaconda3/lib/python3.11/site-packages (0.2.41)\n",
      "Requirement already satisfied: pandas>=1.3.0 in /Users/yanellyhernandez/anaconda3/lib/python3.11/site-packages (from yfinance) (1.5.0)\n",
      "Requirement already satisfied: numpy>=1.16.5 in /Users/yanellyhernandez/anaconda3/lib/python3.11/site-packages (from yfinance) (1.26.4)\n",
      "Requirement already satisfied: requests>=2.31 in /Users/yanellyhernandez/anaconda3/lib/python3.11/site-packages (from yfinance) (2.32.3)\n",
      "Requirement already satisfied: multitasking>=0.0.7 in /Users/yanellyhernandez/anaconda3/lib/python3.11/site-packages (from yfinance) (0.0.11)\n",
      "Requirement already satisfied: lxml>=4.9.1 in /Users/yanellyhernandez/anaconda3/lib/python3.11/site-packages (from yfinance) (5.3.0)\n",
      "Requirement already satisfied: platformdirs>=2.0.0 in /Users/yanellyhernandez/anaconda3/lib/python3.11/site-packages (from yfinance) (3.10.0)\n",
      "Requirement already satisfied: pytz>=2022.5 in /Users/yanellyhernandez/anaconda3/lib/python3.11/site-packages (from yfinance) (2024.1)\n",
      "Requirement already satisfied: frozendict>=2.3.4 in /Users/yanellyhernandez/anaconda3/lib/python3.11/site-packages (from yfinance) (2.4.2)\n",
      "Requirement already satisfied: peewee>=3.16.2 in /Users/yanellyhernandez/anaconda3/lib/python3.11/site-packages (from yfinance) (3.17.6)\n",
      "Requirement already satisfied: beautifulsoup4>=4.11.1 in /Users/yanellyhernandez/anaconda3/lib/python3.11/site-packages (from yfinance) (4.12.3)\n",
      "Requirement already satisfied: html5lib>=1.1 in /Users/yanellyhernandez/anaconda3/lib/python3.11/site-packages (from yfinance) (1.1)\n",
      "Requirement already satisfied: soupsieve>1.2 in /Users/yanellyhernandez/anaconda3/lib/python3.11/site-packages (from beautifulsoup4>=4.11.1->yfinance) (2.5)\n",
      "Requirement already satisfied: six>=1.9 in /Users/yanellyhernandez/anaconda3/lib/python3.11/site-packages (from html5lib>=1.1->yfinance) (1.16.0)\n",
      "Requirement already satisfied: webencodings in /Users/yanellyhernandez/anaconda3/lib/python3.11/site-packages (from html5lib>=1.1->yfinance) (0.5.1)\n",
      "Requirement already satisfied: python-dateutil>=2.8.1 in /Users/yanellyhernandez/anaconda3/lib/python3.11/site-packages (from pandas>=1.3.0->yfinance) (2.9.0.post0)\n",
      "Requirement already satisfied: charset-normalizer<4,>=2 in /Users/yanellyhernandez/anaconda3/lib/python3.11/site-packages (from requests>=2.31->yfinance) (3.3.2)\n",
      "Requirement already satisfied: idna<4,>=2.5 in /Users/yanellyhernandez/anaconda3/lib/python3.11/site-packages (from requests>=2.31->yfinance) (3.7)\n",
      "Requirement already satisfied: urllib3<3,>=1.21.1 in /Users/yanellyhernandez/anaconda3/lib/python3.11/site-packages (from requests>=2.31->yfinance) (2.2.3)\n",
      "Requirement already satisfied: certifi>=2017.4.17 in /Users/yanellyhernandez/anaconda3/lib/python3.11/site-packages (from requests>=2.31->yfinance) (2024.12.14)\n",
      "Note: you may need to restart the kernel to use updated packages.\n"
     ]
    }
   ],
   "source": [
    "pip install yfinance"
   ]
  },
  {
   "cell_type": "code",
   "execution_count": 2,
   "metadata": {},
   "outputs": [],
   "source": [
    "import yfinance as yf\n",
    "import pandas as pd\n",
    "import numpy as np\n",
    "import matplotlib.pyplot as plt\n",
    "from statsmodels.tsa.stattools import adfuller\n",
    "from statsmodels.tsa.statespace.sarimax import SARIMAX\n",
    "from sklearn.metrics import mean_squared_error\n",
    "from scipy.stats import kruskal\n",
    "import itertools"
   ]
  },
  {
   "cell_type": "code",
   "execution_count": 3,
   "metadata": {},
   "outputs": [
    {
     "data": {
      "text/plain": [
       "yfinance.Ticker object <AAPL>"
      ]
     },
     "execution_count": 3,
     "metadata": {},
     "output_type": "execute_result"
    }
   ],
   "source": [
    "yf.Ticker('AAPL') # symbol for the company"
   ]
  },
  {
   "cell_type": "code",
   "execution_count": 4,
   "metadata": {},
   "outputs": [
    {
     "data": {
      "text/html": [
       "<div>\n",
       "<style scoped>\n",
       "    .dataframe tbody tr th:only-of-type {\n",
       "        vertical-align: middle;\n",
       "    }\n",
       "\n",
       "    .dataframe tbody tr th {\n",
       "        vertical-align: top;\n",
       "    }\n",
       "\n",
       "    .dataframe thead th {\n",
       "        text-align: right;\n",
       "    }\n",
       "</style>\n",
       "<table border=\"1\" class=\"dataframe\">\n",
       "  <thead>\n",
       "    <tr style=\"text-align: right;\">\n",
       "      <th></th>\n",
       "      <th>Open</th>\n",
       "      <th>High</th>\n",
       "      <th>Low</th>\n",
       "      <th>Close</th>\n",
       "      <th>Volume</th>\n",
       "      <th>Dividends</th>\n",
       "      <th>Stock Splits</th>\n",
       "    </tr>\n",
       "    <tr>\n",
       "      <th>Date</th>\n",
       "      <th></th>\n",
       "      <th></th>\n",
       "      <th></th>\n",
       "      <th></th>\n",
       "      <th></th>\n",
       "      <th></th>\n",
       "      <th></th>\n",
       "    </tr>\n",
       "  </thead>\n",
       "  <tbody>\n",
       "    <tr>\n",
       "      <th>2024-07-25 00:00:00-04:00</th>\n",
       "      <td>218.436559</td>\n",
       "      <td>220.352245</td>\n",
       "      <td>214.136275</td>\n",
       "      <td>216.999817</td>\n",
       "      <td>51391200</td>\n",
       "      <td>0.0</td>\n",
       "      <td>0.0</td>\n",
       "    </tr>\n",
       "    <tr>\n",
       "      <th>2024-07-26 00:00:00-04:00</th>\n",
       "      <td>218.207072</td>\n",
       "      <td>218.995300</td>\n",
       "      <td>215.523133</td>\n",
       "      <td>217.468750</td>\n",
       "      <td>41601300</td>\n",
       "      <td>0.0</td>\n",
       "      <td>0.0</td>\n",
       "    </tr>\n",
       "    <tr>\n",
       "      <th>2024-07-29 00:00:00-04:00</th>\n",
       "      <td>216.471009</td>\n",
       "      <td>218.805732</td>\n",
       "      <td>215.263730</td>\n",
       "      <td>217.748123</td>\n",
       "      <td>36311800</td>\n",
       "      <td>0.0</td>\n",
       "      <td>0.0</td>\n",
       "    </tr>\n",
       "    <tr>\n",
       "      <th>2024-07-30 00:00:00-04:00</th>\n",
       "      <td>218.695975</td>\n",
       "      <td>219.833405</td>\n",
       "      <td>215.632887</td>\n",
       "      <td>218.306854</td>\n",
       "      <td>41643800</td>\n",
       "      <td>0.0</td>\n",
       "      <td>0.0</td>\n",
       "    </tr>\n",
       "    <tr>\n",
       "      <th>2024-07-31 00:00:00-04:00</th>\n",
       "      <td>220.940911</td>\n",
       "      <td>223.315552</td>\n",
       "      <td>220.132739</td>\n",
       "      <td>221.579468</td>\n",
       "      <td>50036300</td>\n",
       "      <td>0.0</td>\n",
       "      <td>0.0</td>\n",
       "    </tr>\n",
       "    <tr>\n",
       "      <th>...</th>\n",
       "      <td>...</td>\n",
       "      <td>...</td>\n",
       "      <td>...</td>\n",
       "      <td>...</td>\n",
       "      <td>...</td>\n",
       "      <td>...</td>\n",
       "      <td>...</td>\n",
       "    </tr>\n",
       "    <tr>\n",
       "      <th>2025-01-17 00:00:00-05:00</th>\n",
       "      <td>232.119995</td>\n",
       "      <td>232.289993</td>\n",
       "      <td>228.479996</td>\n",
       "      <td>229.979996</td>\n",
       "      <td>68488300</td>\n",
       "      <td>0.0</td>\n",
       "      <td>0.0</td>\n",
       "    </tr>\n",
       "    <tr>\n",
       "      <th>2025-01-21 00:00:00-05:00</th>\n",
       "      <td>224.000000</td>\n",
       "      <td>224.419998</td>\n",
       "      <td>219.380005</td>\n",
       "      <td>222.639999</td>\n",
       "      <td>98070400</td>\n",
       "      <td>0.0</td>\n",
       "      <td>0.0</td>\n",
       "    </tr>\n",
       "    <tr>\n",
       "      <th>2025-01-22 00:00:00-05:00</th>\n",
       "      <td>219.789993</td>\n",
       "      <td>224.119995</td>\n",
       "      <td>219.789993</td>\n",
       "      <td>223.830002</td>\n",
       "      <td>64126500</td>\n",
       "      <td>0.0</td>\n",
       "      <td>0.0</td>\n",
       "    </tr>\n",
       "    <tr>\n",
       "      <th>2025-01-23 00:00:00-05:00</th>\n",
       "      <td>224.740005</td>\n",
       "      <td>227.029999</td>\n",
       "      <td>222.300003</td>\n",
       "      <td>223.660004</td>\n",
       "      <td>60234800</td>\n",
       "      <td>0.0</td>\n",
       "      <td>0.0</td>\n",
       "    </tr>\n",
       "    <tr>\n",
       "      <th>2025-01-24 00:00:00-05:00</th>\n",
       "      <td>224.779999</td>\n",
       "      <td>225.630005</td>\n",
       "      <td>221.410004</td>\n",
       "      <td>222.779999</td>\n",
       "      <td>54619500</td>\n",
       "      <td>0.0</td>\n",
       "      <td>0.0</td>\n",
       "    </tr>\n",
       "  </tbody>\n",
       "</table>\n",
       "<p>126 rows × 7 columns</p>\n",
       "</div>"
      ],
      "text/plain": [
       "                                 Open        High         Low       Close  \\\n",
       "Date                                                                        \n",
       "2024-07-25 00:00:00-04:00  218.436559  220.352245  214.136275  216.999817   \n",
       "2024-07-26 00:00:00-04:00  218.207072  218.995300  215.523133  217.468750   \n",
       "2024-07-29 00:00:00-04:00  216.471009  218.805732  215.263730  217.748123   \n",
       "2024-07-30 00:00:00-04:00  218.695975  219.833405  215.632887  218.306854   \n",
       "2024-07-31 00:00:00-04:00  220.940911  223.315552  220.132739  221.579468   \n",
       "...                               ...         ...         ...         ...   \n",
       "2025-01-17 00:00:00-05:00  232.119995  232.289993  228.479996  229.979996   \n",
       "2025-01-21 00:00:00-05:00  224.000000  224.419998  219.380005  222.639999   \n",
       "2025-01-22 00:00:00-05:00  219.789993  224.119995  219.789993  223.830002   \n",
       "2025-01-23 00:00:00-05:00  224.740005  227.029999  222.300003  223.660004   \n",
       "2025-01-24 00:00:00-05:00  224.779999  225.630005  221.410004  222.779999   \n",
       "\n",
       "                             Volume  Dividends  Stock Splits  \n",
       "Date                                                          \n",
       "2024-07-25 00:00:00-04:00  51391200        0.0           0.0  \n",
       "2024-07-26 00:00:00-04:00  41601300        0.0           0.0  \n",
       "2024-07-29 00:00:00-04:00  36311800        0.0           0.0  \n",
       "2024-07-30 00:00:00-04:00  41643800        0.0           0.0  \n",
       "2024-07-31 00:00:00-04:00  50036300        0.0           0.0  \n",
       "...                             ...        ...           ...  \n",
       "2025-01-17 00:00:00-05:00  68488300        0.0           0.0  \n",
       "2025-01-21 00:00:00-05:00  98070400        0.0           0.0  \n",
       "2025-01-22 00:00:00-05:00  64126500        0.0           0.0  \n",
       "2025-01-23 00:00:00-05:00  60234800        0.0           0.0  \n",
       "2025-01-24 00:00:00-05:00  54619500        0.0           0.0  \n",
       "\n",
       "[126 rows x 7 columns]"
      ]
     },
     "execution_count": 4,
     "metadata": {},
     "output_type": "execute_result"
    }
   ],
   "source": [
    "apple = yf.Ticker('AAPL')\n",
    "apple = apple.history(period='6mo')\n",
    "apple"
   ]
  },
  {
   "cell_type": "code",
   "execution_count": 5,
   "metadata": {},
   "outputs": [],
   "source": [
    "apple.to_csv('APPL_data.csv')"
   ]
  },
  {
   "cell_type": "code",
   "execution_count": 6,
   "metadata": {},
   "outputs": [
    {
     "data": {
      "text/plain": [
       "(126, 7)"
      ]
     },
     "execution_count": 6,
     "metadata": {},
     "output_type": "execute_result"
    }
   ],
   "source": [
    "apple.shape"
   ]
  },
  {
   "cell_type": "code",
   "execution_count": 7,
   "metadata": {},
   "outputs": [
    {
     "name": "stdout",
     "output_type": "stream",
     "text": [
      "<class 'pandas.core.frame.DataFrame'>\n",
      "DatetimeIndex: 126 entries, 2024-07-25 00:00:00-04:00 to 2025-01-24 00:00:00-05:00\n",
      "Data columns (total 7 columns):\n",
      " #   Column        Non-Null Count  Dtype  \n",
      "---  ------        --------------  -----  \n",
      " 0   Open          126 non-null    float64\n",
      " 1   High          126 non-null    float64\n",
      " 2   Low           126 non-null    float64\n",
      " 3   Close         126 non-null    float64\n",
      " 4   Volume        126 non-null    int64  \n",
      " 5   Dividends     126 non-null    float64\n",
      " 6   Stock Splits  126 non-null    float64\n",
      "dtypes: float64(6), int64(1)\n",
      "memory usage: 7.9 KB\n"
     ]
    }
   ],
   "source": [
    "apple.info()"
   ]
  },
  {
   "cell_type": "code",
   "execution_count": 8,
   "metadata": {},
   "outputs": [
    {
     "data": {
      "text/html": [
       "<div>\n",
       "<style scoped>\n",
       "    .dataframe tbody tr th:only-of-type {\n",
       "        vertical-align: middle;\n",
       "    }\n",
       "\n",
       "    .dataframe tbody tr th {\n",
       "        vertical-align: top;\n",
       "    }\n",
       "\n",
       "    .dataframe thead th {\n",
       "        text-align: right;\n",
       "    }\n",
       "</style>\n",
       "<table border=\"1\" class=\"dataframe\">\n",
       "  <thead>\n",
       "    <tr style=\"text-align: right;\">\n",
       "      <th></th>\n",
       "      <th>Open</th>\n",
       "      <th>High</th>\n",
       "      <th>Low</th>\n",
       "      <th>Close</th>\n",
       "      <th>Volume</th>\n",
       "      <th>Dividends</th>\n",
       "      <th>Stock Splits</th>\n",
       "    </tr>\n",
       "  </thead>\n",
       "  <tbody>\n",
       "    <tr>\n",
       "      <th>count</th>\n",
       "      <td>126.000000</td>\n",
       "      <td>126.000000</td>\n",
       "      <td>126.000000</td>\n",
       "      <td>126.000000</td>\n",
       "      <td>1.260000e+02</td>\n",
       "      <td>126.000000</td>\n",
       "      <td>126.0</td>\n",
       "    </tr>\n",
       "    <tr>\n",
       "      <th>mean</th>\n",
       "      <td>229.961657</td>\n",
       "      <td>232.092051</td>\n",
       "      <td>227.964570</td>\n",
       "      <td>230.303224</td>\n",
       "      <td>4.923418e+07</td>\n",
       "      <td>0.003968</td>\n",
       "      <td>0.0</td>\n",
       "    </tr>\n",
       "    <tr>\n",
       "      <th>std</th>\n",
       "      <td>11.134470</td>\n",
       "      <td>10.837329</td>\n",
       "      <td>11.261489</td>\n",
       "      <td>10.947082</td>\n",
       "      <td>2.975111e+07</td>\n",
       "      <td>0.031371</td>\n",
       "      <td>0.0</td>\n",
       "    </tr>\n",
       "    <tr>\n",
       "      <th>min</th>\n",
       "      <td>198.641276</td>\n",
       "      <td>209.516713</td>\n",
       "      <td>195.558244</td>\n",
       "      <td>206.762924</td>\n",
       "      <td>2.323470e+07</td>\n",
       "      <td>0.000000</td>\n",
       "      <td>0.0</td>\n",
       "    </tr>\n",
       "    <tr>\n",
       "      <th>25%</th>\n",
       "      <td>223.898219</td>\n",
       "      <td>225.284634</td>\n",
       "      <td>221.134208</td>\n",
       "      <td>222.693768</td>\n",
       "      <td>3.688165e+07</td>\n",
       "      <td>0.000000</td>\n",
       "      <td>0.0</td>\n",
       "    </tr>\n",
       "    <tr>\n",
       "      <th>50%</th>\n",
       "      <td>227.659521</td>\n",
       "      <td>229.332692</td>\n",
       "      <td>225.456943</td>\n",
       "      <td>227.659523</td>\n",
       "      <td>4.233200e+07</td>\n",
       "      <td>0.000000</td>\n",
       "      <td>0.0</td>\n",
       "    </tr>\n",
       "    <tr>\n",
       "      <th>75%</th>\n",
       "      <td>234.597500</td>\n",
       "      <td>236.472283</td>\n",
       "      <td>233.247501</td>\n",
       "      <td>235.027496</td>\n",
       "      <td>5.185342e+07</td>\n",
       "      <td>0.000000</td>\n",
       "      <td>0.0</td>\n",
       "    </tr>\n",
       "    <tr>\n",
       "      <th>max</th>\n",
       "      <td>258.190002</td>\n",
       "      <td>260.100006</td>\n",
       "      <td>257.630005</td>\n",
       "      <td>259.019989</td>\n",
       "      <td>3.186799e+08</td>\n",
       "      <td>0.250000</td>\n",
       "      <td>0.0</td>\n",
       "    </tr>\n",
       "  </tbody>\n",
       "</table>\n",
       "</div>"
      ],
      "text/plain": [
       "             Open        High         Low       Close        Volume  \\\n",
       "count  126.000000  126.000000  126.000000  126.000000  1.260000e+02   \n",
       "mean   229.961657  232.092051  227.964570  230.303224  4.923418e+07   \n",
       "std     11.134470   10.837329   11.261489   10.947082  2.975111e+07   \n",
       "min    198.641276  209.516713  195.558244  206.762924  2.323470e+07   \n",
       "25%    223.898219  225.284634  221.134208  222.693768  3.688165e+07   \n",
       "50%    227.659521  229.332692  225.456943  227.659523  4.233200e+07   \n",
       "75%    234.597500  236.472283  233.247501  235.027496  5.185342e+07   \n",
       "max    258.190002  260.100006  257.630005  259.019989  3.186799e+08   \n",
       "\n",
       "        Dividends  Stock Splits  \n",
       "count  126.000000         126.0  \n",
       "mean     0.003968           0.0  \n",
       "std      0.031371           0.0  \n",
       "min      0.000000           0.0  \n",
       "25%      0.000000           0.0  \n",
       "50%      0.000000           0.0  \n",
       "75%      0.000000           0.0  \n",
       "max      0.250000           0.0  "
      ]
     },
     "execution_count": 8,
     "metadata": {},
     "output_type": "execute_result"
    }
   ],
   "source": [
    "apple.describe()"
   ]
  },
  {
   "cell_type": "code",
   "execution_count": 9,
   "metadata": {},
   "outputs": [],
   "source": [
    "df = apple.drop(['High', 'Low', 'Close', 'Volume', 'Dividends', 'Stock Splits'], axis=1)\n",
    "# Ensure the index is datetime and set frequency (daily or business days)\n",
    "df.index = pd.to_datetime(df.index)\n",
    "df = df.asfreq('B')  # 'B' for business days, or 'D' for daily frequency\n"
   ]
  },
  {
   "cell_type": "code",
   "execution_count": 10,
   "metadata": {},
   "outputs": [
    {
     "name": "stdout",
     "output_type": "stream",
     "text": [
      "Open    6\n",
      "dtype: int64\n"
     ]
    }
   ],
   "source": [
    "print(df.isnull().sum())  # Ensure no NaNs"
   ]
  },
  {
   "cell_type": "code",
   "execution_count": 11,
   "metadata": {},
   "outputs": [
    {
     "name": "stdout",
     "output_type": "stream",
     "text": [
      "<class 'pandas.core.frame.DataFrame'>\n",
      "DatetimeIndex: 132 entries, 2024-07-25 00:00:00-04:00 to 2025-01-24 00:00:00-05:00\n",
      "Freq: B\n",
      "Data columns (total 1 columns):\n",
      " #   Column  Non-Null Count  Dtype  \n",
      "---  ------  --------------  -----  \n",
      " 0   Open    126 non-null    float64\n",
      "dtypes: float64(1)\n",
      "memory usage: 2.1 KB\n"
     ]
    }
   ],
   "source": [
    "df.info()"
   ]
  },
  {
   "cell_type": "code",
   "execution_count": 12,
   "metadata": {},
   "outputs": [
    {
     "data": {
      "text/html": [
       "<div>\n",
       "<style scoped>\n",
       "    .dataframe tbody tr th:only-of-type {\n",
       "        vertical-align: middle;\n",
       "    }\n",
       "\n",
       "    .dataframe tbody tr th {\n",
       "        vertical-align: top;\n",
       "    }\n",
       "\n",
       "    .dataframe thead th {\n",
       "        text-align: right;\n",
       "    }\n",
       "</style>\n",
       "<table border=\"1\" class=\"dataframe\">\n",
       "  <thead>\n",
       "    <tr style=\"text-align: right;\">\n",
       "      <th></th>\n",
       "      <th>Open</th>\n",
       "    </tr>\n",
       "  </thead>\n",
       "  <tbody>\n",
       "    <tr>\n",
       "      <th>count</th>\n",
       "      <td>126.000000</td>\n",
       "    </tr>\n",
       "    <tr>\n",
       "      <th>mean</th>\n",
       "      <td>229.961657</td>\n",
       "    </tr>\n",
       "    <tr>\n",
       "      <th>std</th>\n",
       "      <td>11.134470</td>\n",
       "    </tr>\n",
       "    <tr>\n",
       "      <th>min</th>\n",
       "      <td>198.641276</td>\n",
       "    </tr>\n",
       "    <tr>\n",
       "      <th>25%</th>\n",
       "      <td>223.898219</td>\n",
       "    </tr>\n",
       "    <tr>\n",
       "      <th>50%</th>\n",
       "      <td>227.659521</td>\n",
       "    </tr>\n",
       "    <tr>\n",
       "      <th>75%</th>\n",
       "      <td>234.597500</td>\n",
       "    </tr>\n",
       "    <tr>\n",
       "      <th>max</th>\n",
       "      <td>258.190002</td>\n",
       "    </tr>\n",
       "  </tbody>\n",
       "</table>\n",
       "</div>"
      ],
      "text/plain": [
       "             Open\n",
       "count  126.000000\n",
       "mean   229.961657\n",
       "std     11.134470\n",
       "min    198.641276\n",
       "25%    223.898219\n",
       "50%    227.659521\n",
       "75%    234.597500\n",
       "max    258.190002"
      ]
     },
     "execution_count": 12,
     "metadata": {},
     "output_type": "execute_result"
    }
   ],
   "source": [
    "df.describe()"
   ]
  },
  {
   "cell_type": "code",
   "execution_count": 13,
   "metadata": {},
   "outputs": [
    {
     "data": {
      "text/plain": [
       "<AxesSubplot: ylabel='Frequency'>"
      ]
     },
     "execution_count": 13,
     "metadata": {},
     "output_type": "execute_result"
    },
    {
     "data": {
      "image/png": "[encoded data removed]",
      "text/plain": [
       "<Figure size 640x480 with 1 Axes>"
      ]
     },
     "metadata": {},
     "output_type": "display_data"
    }
   ],
   "source": [
    "df.plot(kind='hist')"
   ]
  },
  {
   "cell_type": "code",
   "execution_count": 14,
   "metadata": {},
   "outputs": [
    {
     "data": {
      "text/plain": [
       "Open    0.465944\n",
       "dtype: float64"
      ]
     },
     "execution_count": 14,
     "metadata": {},
     "output_type": "execute_result"
    }
   ],
   "source": [
    "df.skew()"
   ]
  },
  {
   "cell_type": "code",
   "execution_count": 15,
   "metadata": {},
   "outputs": [
    {
     "data": {
      "text/plain": [
       "<AxesSubplot: xlabel='Date'>"
      ]
     },
     "execution_count": 15,
     "metadata": {},
     "output_type": "execute_result"
    },
    {
     "data": {
      "image/png": "[encoded data removed]",
      "text/plain": [
       "<Figure size 640x480 with 1 Axes>"
      ]
     },
     "metadata": {},
     "output_type": "display_data"
    }
   ],
   "source": [
    "df.plot()"
   ]
  },
  {
   "cell_type": "code",
   "execution_count": 16,
   "metadata": {},
   "outputs": [
    {
     "data": {
      "text/plain": [
       "[<matplotlib.lines.Line2D at 0x1431fdfd0>]"
      ]
     },
     "execution_count": 16,
     "metadata": {},
     "output_type": "execute_result"
    },
    {
     "data": {
      "image/png": "[encoded data removed]",
      "text/plain": [
       "<Figure size 640x480 with 1 Axes>"
      ]
     },
     "metadata": {},
     "output_type": "display_data"
    }
   ],
   "source": [
    "plt.plot(df)"
   ]
  },
  {
   "cell_type": "code",
   "execution_count": 17,
   "metadata": {},
   "outputs": [
    {
     "data": {
      "text/html": [
       "<div>\n",
       "<style scoped>\n",
       "    .dataframe tbody tr th:only-of-type {\n",
       "        vertical-align: middle;\n",
       "    }\n",
       "\n",
       "    .dataframe tbody tr th {\n",
       "        vertical-align: top;\n",
       "    }\n",
       "\n",
       "    .dataframe thead th {\n",
       "        text-align: right;\n",
       "    }\n",
       "</style>\n",
       "<table border=\"1\" class=\"dataframe\">\n",
       "  <thead>\n",
       "    <tr style=\"text-align: right;\">\n",
       "      <th></th>\n",
       "      <th>Open</th>\n",
       "    </tr>\n",
       "    <tr>\n",
       "      <th>Date</th>\n",
       "      <th></th>\n",
       "    </tr>\n",
       "  </thead>\n",
       "  <tbody>\n",
       "    <tr>\n",
       "      <th>2024-07-25 00:00:00-04:00</th>\n",
       "      <td>218.436559</td>\n",
       "    </tr>\n",
       "    <tr>\n",
       "      <th>2024-07-26 00:00:00-04:00</th>\n",
       "      <td>218.207072</td>\n",
       "    </tr>\n",
       "    <tr>\n",
       "      <th>2024-07-29 00:00:00-04:00</th>\n",
       "      <td>216.471009</td>\n",
       "    </tr>\n",
       "    <tr>\n",
       "      <th>2024-07-30 00:00:00-04:00</th>\n",
       "      <td>218.695975</td>\n",
       "    </tr>\n",
       "    <tr>\n",
       "      <th>2024-07-31 00:00:00-04:00</th>\n",
       "      <td>220.940911</td>\n",
       "    </tr>\n",
       "    <tr>\n",
       "      <th>...</th>\n",
       "      <td>...</td>\n",
       "    </tr>\n",
       "    <tr>\n",
       "      <th>2025-01-20 00:00:00-05:00</th>\n",
       "      <td>NaN</td>\n",
       "    </tr>\n",
       "    <tr>\n",
       "      <th>2025-01-21 00:00:00-05:00</th>\n",
       "      <td>224.000000</td>\n",
       "    </tr>\n",
       "    <tr>\n",
       "      <th>2025-01-22 00:00:00-05:00</th>\n",
       "      <td>219.789993</td>\n",
       "    </tr>\n",
       "    <tr>\n",
       "      <th>2025-01-23 00:00:00-05:00</th>\n",
       "      <td>224.740005</td>\n",
       "    </tr>\n",
       "    <tr>\n",
       "      <th>2025-01-24 00:00:00-05:00</th>\n",
       "      <td>224.779999</td>\n",
       "    </tr>\n",
       "  </tbody>\n",
       "</table>\n",
       "<p>132 rows × 1 columns</p>\n",
       "</div>"
      ],
      "text/plain": [
       "                                 Open\n",
       "Date                                 \n",
       "2024-07-25 00:00:00-04:00  218.436559\n",
       "2024-07-26 00:00:00-04:00  218.207072\n",
       "2024-07-29 00:00:00-04:00  216.471009\n",
       "2024-07-30 00:00:00-04:00  218.695975\n",
       "2024-07-31 00:00:00-04:00  220.940911\n",
       "...                               ...\n",
       "2025-01-20 00:00:00-05:00         NaN\n",
       "2025-01-21 00:00:00-05:00  224.000000\n",
       "2025-01-22 00:00:00-05:00  219.789993\n",
       "2025-01-23 00:00:00-05:00  224.740005\n",
       "2025-01-24 00:00:00-05:00  224.779999\n",
       "\n",
       "[132 rows x 1 columns]"
      ]
     },
     "execution_count": 17,
     "metadata": {},
     "output_type": "execute_result"
    }
   ],
   "source": [
    "df"
   ]
  },
  {
   "cell_type": "code",
   "execution_count": 18,
   "metadata": {},
   "outputs": [],
   "source": [
    "rollingmean = df.rolling(window=10).mean()\n",
    "rollingmeanstd = df.rolling(window=10).std()"
   ]
  },
  {
   "cell_type": "code",
   "execution_count": 19,
   "metadata": {},
   "outputs": [
    {
     "data": {
      "text/plain": [
       "<matplotlib.legend.Legend at 0x1432d0710>"
      ]
     },
     "execution_count": 19,
     "metadata": {},
     "output_type": "execute_result"
    },
    {
     "data": {
      "image/png": "[encoded data removed]",
      "text/plain": [
       "<Figure size 640x480 with 1 Axes>"
      ]
     },
     "metadata": {},
     "output_type": "display_data"
    }
   ],
   "source": [
    "plt.plot(df, color='blue', label='orig')\n",
    "plt.plot(rollingmean, color='red', label='rolling mean')\n",
    "plt.plot(rollingmeanstd, color='black', label='rolling mean std')\n",
    "plt.legend()"
   ]
  },
  {
   "cell_type": "markdown",
   "metadata": {},
   "source": [
    "# adfuller "
   ]
  },
  {
   "cell_type": "code",
   "execution_count": 20,
   "metadata": {},
   "outputs": [
    {
     "name": "stdout",
     "output_type": "stream",
     "text": [
      "6\n",
      "0\n"
     ]
    }
   ],
   "source": [
    "# Check for missing or infinite values in the 'Open' column\n",
    "print(df['Open'].isna().sum())  # Number of missing values\n",
    "print(np.isinf(df['Open']).sum())  # Number of infinite values\n",
    "\n",
    "# If there are missing or infinite values, drop them\n",
    "df = df.dropna(subset=['Open'])  # Drop rows with missing 'Open' values\n",
    "df = df[np.isfinite(df['Open'])]  # Drop rows with infinite 'Open' values\n"
   ]
  },
  {
   "cell_type": "code",
   "execution_count": 21,
   "metadata": {},
   "outputs": [
    {
     "name": "stdout",
     "output_type": "stream",
     "text": [
      "0\n",
      "0\n"
     ]
    }
   ],
   "source": [
    "print(df['Open'].isna().sum())  # Number of missing values\n",
    "print(np.isinf(df['Open']).sum())  # Number of infinite values"
   ]
  },
  {
   "cell_type": "code",
   "execution_count": 22,
   "metadata": {},
   "outputs": [
    {
     "name": "stdout",
     "output_type": "stream",
     "text": [
      "ADF Statistic: -1.7389149548792184, p-value: 0.4111820072547554\n"
     ]
    }
   ],
   "source": [
    "# Check if data is stationary (ADF test)\n",
    "result = adfuller(df['Open'])\n",
    "print(f'ADF Statistic: {result[0]}, p-value: {result[1]}')"
   ]
  },
  {
   "cell_type": "markdown",
   "metadata": {},
   "source": [
    "# checking for seasonality"
   ]
  },
  {
   "cell_type": "code",
   "execution_count": 23,
   "metadata": {},
   "outputs": [
    {
     "data": {
      "text/html": [
       "<div>\n",
       "<style scoped>\n",
       "    .dataframe tbody tr th:only-of-type {\n",
       "        vertical-align: middle;\n",
       "    }\n",
       "\n",
       "    .dataframe tbody tr th {\n",
       "        vertical-align: top;\n",
       "    }\n",
       "\n",
       "    .dataframe thead th {\n",
       "        text-align: right;\n",
       "    }\n",
       "</style>\n",
       "<table border=\"1\" class=\"dataframe\">\n",
       "  <thead>\n",
       "    <tr style=\"text-align: right;\">\n",
       "      <th></th>\n",
       "      <th>Open</th>\n",
       "    </tr>\n",
       "    <tr>\n",
       "      <th>Date</th>\n",
       "      <th></th>\n",
       "    </tr>\n",
       "  </thead>\n",
       "  <tbody>\n",
       "    <tr>\n",
       "      <th>2024-07-25 00:00:00-04:00</th>\n",
       "      <td>218.436559</td>\n",
       "    </tr>\n",
       "    <tr>\n",
       "      <th>2024-07-26 00:00:00-04:00</th>\n",
       "      <td>218.207072</td>\n",
       "    </tr>\n",
       "    <tr>\n",
       "      <th>2024-07-29 00:00:00-04:00</th>\n",
       "      <td>216.471009</td>\n",
       "    </tr>\n",
       "    <tr>\n",
       "      <th>2024-07-30 00:00:00-04:00</th>\n",
       "      <td>218.695975</td>\n",
       "    </tr>\n",
       "    <tr>\n",
       "      <th>2024-07-31 00:00:00-04:00</th>\n",
       "      <td>220.940911</td>\n",
       "    </tr>\n",
       "    <tr>\n",
       "      <th>...</th>\n",
       "      <td>...</td>\n",
       "    </tr>\n",
       "    <tr>\n",
       "      <th>2025-01-17 00:00:00-05:00</th>\n",
       "      <td>232.119995</td>\n",
       "    </tr>\n",
       "    <tr>\n",
       "      <th>2025-01-21 00:00:00-05:00</th>\n",
       "      <td>224.000000</td>\n",
       "    </tr>\n",
       "    <tr>\n",
       "      <th>2025-01-22 00:00:00-05:00</th>\n",
       "      <td>219.789993</td>\n",
       "    </tr>\n",
       "    <tr>\n",
       "      <th>2025-01-23 00:00:00-05:00</th>\n",
       "      <td>224.740005</td>\n",
       "    </tr>\n",
       "    <tr>\n",
       "      <th>2025-01-24 00:00:00-05:00</th>\n",
       "      <td>224.779999</td>\n",
       "    </tr>\n",
       "  </tbody>\n",
       "</table>\n",
       "<p>126 rows × 1 columns</p>\n",
       "</div>"
      ],
      "text/plain": [
       "                                 Open\n",
       "Date                                 \n",
       "2024-07-25 00:00:00-04:00  218.436559\n",
       "2024-07-26 00:00:00-04:00  218.207072\n",
       "2024-07-29 00:00:00-04:00  216.471009\n",
       "2024-07-30 00:00:00-04:00  218.695975\n",
       "2024-07-31 00:00:00-04:00  220.940911\n",
       "...                               ...\n",
       "2025-01-17 00:00:00-05:00  232.119995\n",
       "2025-01-21 00:00:00-05:00  224.000000\n",
       "2025-01-22 00:00:00-05:00  219.789993\n",
       "2025-01-23 00:00:00-05:00  224.740005\n",
       "2025-01-24 00:00:00-05:00  224.779999\n",
       "\n",
       "[126 rows x 1 columns]"
      ]
     },
     "execution_count": 23,
     "metadata": {},
     "output_type": "execute_result"
    }
   ],
   "source": [
    "df"
   ]
  },
  {
   "cell_type": "code",
   "execution_count": 24,
   "metadata": {},
   "outputs": [
    {
     "data": {
      "text/plain": [
       "<AxesSubplot: xlabel='Date'>"
      ]
     },
     "execution_count": 24,
     "metadata": {},
     "output_type": "execute_result"
    },
    {
     "data": {
      "image/png": "[encoded data removed]",
      "text/plain": [
       "<Figure size 640x480 with 1 Axes>"
      ]
     },
     "metadata": {},
     "output_type": "display_data"
    }
   ],
   "source": [
    "df.plot()"
   ]
  },
  {
   "cell_type": "code",
   "execution_count": 25,
   "metadata": {},
   "outputs": [
    {
     "data": {
      "text/html": [
       "<div>\n",
       "<style scoped>\n",
       "    .dataframe tbody tr th:only-of-type {\n",
       "        vertical-align: middle;\n",
       "    }\n",
       "\n",
       "    .dataframe tbody tr th {\n",
       "        vertical-align: top;\n",
       "    }\n",
       "\n",
       "    .dataframe thead th {\n",
       "        text-align: right;\n",
       "    }\n",
       "</style>\n",
       "<table border=\"1\" class=\"dataframe\">\n",
       "  <thead>\n",
       "    <tr style=\"text-align: right;\">\n",
       "      <th></th>\n",
       "      <th>Open</th>\n",
       "      <th>Month</th>\n",
       "    </tr>\n",
       "    <tr>\n",
       "      <th>Date</th>\n",
       "      <th></th>\n",
       "      <th></th>\n",
       "    </tr>\n",
       "  </thead>\n",
       "  <tbody>\n",
       "    <tr>\n",
       "      <th>2024-07-25 00:00:00-04:00</th>\n",
       "      <td>218.436559</td>\n",
       "      <td>7</td>\n",
       "    </tr>\n",
       "    <tr>\n",
       "      <th>2024-07-26 00:00:00-04:00</th>\n",
       "      <td>218.207072</td>\n",
       "      <td>7</td>\n",
       "    </tr>\n",
       "    <tr>\n",
       "      <th>2024-07-29 00:00:00-04:00</th>\n",
       "      <td>216.471009</td>\n",
       "      <td>7</td>\n",
       "    </tr>\n",
       "    <tr>\n",
       "      <th>2024-07-30 00:00:00-04:00</th>\n",
       "      <td>218.695975</td>\n",
       "      <td>7</td>\n",
       "    </tr>\n",
       "    <tr>\n",
       "      <th>2024-07-31 00:00:00-04:00</th>\n",
       "      <td>220.940911</td>\n",
       "      <td>7</td>\n",
       "    </tr>\n",
       "    <tr>\n",
       "      <th>...</th>\n",
       "      <td>...</td>\n",
       "      <td>...</td>\n",
       "    </tr>\n",
       "    <tr>\n",
       "      <th>2025-01-17 00:00:00-05:00</th>\n",
       "      <td>232.119995</td>\n",
       "      <td>1</td>\n",
       "    </tr>\n",
       "    <tr>\n",
       "      <th>2025-01-21 00:00:00-05:00</th>\n",
       "      <td>224.000000</td>\n",
       "      <td>1</td>\n",
       "    </tr>\n",
       "    <tr>\n",
       "      <th>2025-01-22 00:00:00-05:00</th>\n",
       "      <td>219.789993</td>\n",
       "      <td>1</td>\n",
       "    </tr>\n",
       "    <tr>\n",
       "      <th>2025-01-23 00:00:00-05:00</th>\n",
       "      <td>224.740005</td>\n",
       "      <td>1</td>\n",
       "    </tr>\n",
       "    <tr>\n",
       "      <th>2025-01-24 00:00:00-05:00</th>\n",
       "      <td>224.779999</td>\n",
       "      <td>1</td>\n",
       "    </tr>\n",
       "  </tbody>\n",
       "</table>\n",
       "<p>126 rows × 2 columns</p>\n",
       "</div>"
      ],
      "text/plain": [
       "                                 Open  Month\n",
       "Date                                        \n",
       "2024-07-25 00:00:00-04:00  218.436559      7\n",
       "2024-07-26 00:00:00-04:00  218.207072      7\n",
       "2024-07-29 00:00:00-04:00  216.471009      7\n",
       "2024-07-30 00:00:00-04:00  218.695975      7\n",
       "2024-07-31 00:00:00-04:00  220.940911      7\n",
       "...                               ...    ...\n",
       "2025-01-17 00:00:00-05:00  232.119995      1\n",
       "2025-01-21 00:00:00-05:00  224.000000      1\n",
       "2025-01-22 00:00:00-05:00  219.789993      1\n",
       "2025-01-23 00:00:00-05:00  224.740005      1\n",
       "2025-01-24 00:00:00-05:00  224.779999      1\n",
       "\n",
       "[126 rows x 2 columns]"
      ]
     },
     "execution_count": 25,
     "metadata": {},
     "output_type": "execute_result"
    }
   ],
   "source": [
    "df['Month'] = df.index.month\n",
    "df"
   ]
  },
  {
   "cell_type": "code",
   "execution_count": 26,
   "metadata": {},
   "outputs": [],
   "source": [
    "monthly_groups = [group['Open'].values for name, group in df.groupby('Month')]"
   ]
  },
  {
   "cell_type": "code",
   "execution_count": 27,
   "metadata": {},
   "outputs": [
    {
     "data": {
      "text/plain": [
       "[array([248.92999268, 243.36000061, 244.30999756, 242.97999573,\n",
       "        241.91999817, 240.00999451, 233.52999878, 234.75      ,\n",
       "        234.63999939, 237.3500061 , 232.11999512, 224.        ,\n",
       "        219.78999329, 224.74000549, 224.77999878]),\n",
       " array([218.43655857, 218.20707238, 216.47100933, 218.69597463,\n",
       "        220.94091084]),\n",
       " array([223.86429234, 218.65604975, 198.64127618, 204.83728149,\n",
       "        206.43367474, 212.62967745, 211.62197119, 215.83255237,\n",
       "        218.76929897, 220.32760355, 224.35317448, 223.67391069,\n",
       "        225.4719428 , 225.52188563, 226.27106257, 227.5396608 ,\n",
       "        225.41200238, 226.51079177, 225.75162067, 227.66950996,\n",
       "        229.84713245, 229.93703146]),\n",
       " array([228.29882348, 221.4164072 , 221.38642912, 223.70388139,\n",
       "        220.57732364, 218.67940838, 221.21662032, 222.25546947,\n",
       "        223.33429284, 216.30201959, 215.51289221, 217.31091546,\n",
       "        224.74274368, 229.71726252, 227.09015412, 228.39870926,\n",
       "        224.68279593, 227.05019906, 228.20893469, 229.78718848]),\n",
       " array([229.26777052, 225.64175566, 224.89256551, 227.64953269,\n",
       "        224.25327473, 224.05349543, 224.982474  , 227.5296745 ,\n",
       "        229.04800352, 228.44865816, 233.35326059, 231.34547369,\n",
       "        233.17345904, 235.92042557, 234.19234019, 233.6329633 ,\n",
       "        233.82275213, 229.72725668, 229.48752257, 233.06359498,\n",
       "        232.84382711, 232.35435817, 229.08795101]),\n",
       " array([220.72715344, 220.74713842, 221.55624147, 222.36535526,\n",
       "        224.38313702, 227.16999817, 225.        , 224.55000305,\n",
       "        224.00999451, 225.02000427, 226.3999939 , 225.25      ,\n",
       "        226.97999573, 228.05999756, 228.88000488, 228.05999756,\n",
       "        231.46000671, 233.33000183, 234.47000122, 234.80999756]),\n",
       " array([237.27000427, 239.80999756, 242.86999512, 243.99000549,\n",
       "        242.91000366, 241.83000183, 246.88999939, 247.96000671,\n",
       "        246.88999939, 247.82000732, 247.99000549, 250.08000183,\n",
       "        252.16000366, 247.5       , 248.03999329, 254.77000427,\n",
       "        255.49000549, 258.19000244, 257.82998657, 252.22999573,\n",
       "        252.44000244])]"
      ]
     },
     "execution_count": 27,
     "metadata": {},
     "output_type": "execute_result"
    }
   ],
   "source": [
    "monthly_groups"
   ]
  },
  {
   "cell_type": "code",
   "execution_count": 28,
   "metadata": {},
   "outputs": [
    {
     "name": "stdout",
     "output_type": "stream",
     "text": [
      "Kruskal-Wallis H statistic: 79.78736108466342\n",
      "P-value: 3.953090020984882e-15\n",
      "There is a significant difference between the groups (seasonality detected).\n"
     ]
    }
   ],
   "source": [
    "# Using monthly data\n",
    "stat, p_value = kruskal(*monthly_groups)\n",
    "\n",
    "\n",
    "print(f\"Kruskal-Wallis H statistic: {stat}\")\n",
    "print(f\"P-value: {p_value}\")\n",
    "\n",
    "# Check if the p-value is below a significance level (e.g., 0.05)\n",
    "if p_value < 0.05:\n",
    "    print(\"There is a significant difference between the groups (seasonality detected).\")\n",
    "else:\n",
    "    print(\"There is no significant difference between the groups (no seasonality detected).\")\n"
   ]
  },
  {
   "cell_type": "markdown",
   "metadata": {},
   "source": [
    "# Train the time series"
   ]
  },
  {
   "cell_type": "code",
   "execution_count": 29,
   "metadata": {},
   "outputs": [
    {
     "data": {
      "text/html": [
       "<div>\n",
       "<style scoped>\n",
       "    .dataframe tbody tr th:only-of-type {\n",
       "        vertical-align: middle;\n",
       "    }\n",
       "\n",
       "    .dataframe tbody tr th {\n",
       "        vertical-align: top;\n",
       "    }\n",
       "\n",
       "    .dataframe thead th {\n",
       "        text-align: right;\n",
       "    }\n",
       "</style>\n",
       "<table border=\"1\" class=\"dataframe\">\n",
       "  <thead>\n",
       "    <tr style=\"text-align: right;\">\n",
       "      <th></th>\n",
       "      <th>Open</th>\n",
       "      <th>Month</th>\n",
       "    </tr>\n",
       "    <tr>\n",
       "      <th>Date</th>\n",
       "      <th></th>\n",
       "      <th></th>\n",
       "    </tr>\n",
       "  </thead>\n",
       "  <tbody>\n",
       "    <tr>\n",
       "      <th>2024-07-25 00:00:00-04:00</th>\n",
       "      <td>218.436559</td>\n",
       "      <td>7</td>\n",
       "    </tr>\n",
       "    <tr>\n",
       "      <th>2024-07-26 00:00:00-04:00</th>\n",
       "      <td>218.207072</td>\n",
       "      <td>7</td>\n",
       "    </tr>\n",
       "    <tr>\n",
       "      <th>2024-07-29 00:00:00-04:00</th>\n",
       "      <td>216.471009</td>\n",
       "      <td>7</td>\n",
       "    </tr>\n",
       "    <tr>\n",
       "      <th>2024-07-30 00:00:00-04:00</th>\n",
       "      <td>218.695975</td>\n",
       "      <td>7</td>\n",
       "    </tr>\n",
       "    <tr>\n",
       "      <th>2024-07-31 00:00:00-04:00</th>\n",
       "      <td>220.940911</td>\n",
       "      <td>7</td>\n",
       "    </tr>\n",
       "    <tr>\n",
       "      <th>...</th>\n",
       "      <td>...</td>\n",
       "      <td>...</td>\n",
       "    </tr>\n",
       "    <tr>\n",
       "      <th>2025-01-17 00:00:00-05:00</th>\n",
       "      <td>232.119995</td>\n",
       "      <td>1</td>\n",
       "    </tr>\n",
       "    <tr>\n",
       "      <th>2025-01-21 00:00:00-05:00</th>\n",
       "      <td>224.000000</td>\n",
       "      <td>1</td>\n",
       "    </tr>\n",
       "    <tr>\n",
       "      <th>2025-01-22 00:00:00-05:00</th>\n",
       "      <td>219.789993</td>\n",
       "      <td>1</td>\n",
       "    </tr>\n",
       "    <tr>\n",
       "      <th>2025-01-23 00:00:00-05:00</th>\n",
       "      <td>224.740005</td>\n",
       "      <td>1</td>\n",
       "    </tr>\n",
       "    <tr>\n",
       "      <th>2025-01-24 00:00:00-05:00</th>\n",
       "      <td>224.779999</td>\n",
       "      <td>1</td>\n",
       "    </tr>\n",
       "  </tbody>\n",
       "</table>\n",
       "<p>126 rows × 2 columns</p>\n",
       "</div>"
      ],
      "text/plain": [
       "                                 Open  Month\n",
       "Date                                        \n",
       "2024-07-25 00:00:00-04:00  218.436559      7\n",
       "2024-07-26 00:00:00-04:00  218.207072      7\n",
       "2024-07-29 00:00:00-04:00  216.471009      7\n",
       "2024-07-30 00:00:00-04:00  218.695975      7\n",
       "2024-07-31 00:00:00-04:00  220.940911      7\n",
       "...                               ...    ...\n",
       "2025-01-17 00:00:00-05:00  232.119995      1\n",
       "2025-01-21 00:00:00-05:00  224.000000      1\n",
       "2025-01-22 00:00:00-05:00  219.789993      1\n",
       "2025-01-23 00:00:00-05:00  224.740005      1\n",
       "2025-01-24 00:00:00-05:00  224.779999      1\n",
       "\n",
       "[126 rows x 2 columns]"
      ]
     },
     "execution_count": 29,
     "metadata": {},
     "output_type": "execute_result"
    }
   ],
   "source": [
    "df"
   ]
  },
  {
   "cell_type": "code",
   "execution_count": 30,
   "metadata": {},
   "outputs": [
    {
     "name": "stdout",
     "output_type": "stream",
     "text": [
      "<class 'pandas.core.frame.DataFrame'>\n",
      "DatetimeIndex: 126 entries, 2024-07-25 00:00:00-04:00 to 2025-01-24 00:00:00-05:00\n",
      "Data columns (total 2 columns):\n",
      " #   Column  Non-Null Count  Dtype  \n",
      "---  ------  --------------  -----  \n",
      " 0   Open    126 non-null    float64\n",
      " 1   Month   126 non-null    int64  \n",
      "dtypes: float64(1), int64(1)\n",
      "memory usage: 3.0 KB\n"
     ]
    }
   ],
   "source": [
    "df.info()"
   ]
  },
  {
   "cell_type": "code",
   "execution_count": 31,
   "metadata": {},
   "outputs": [],
   "source": [
    "# Split data into training and testing sets\n",
    "ts = df[['Open']].loc[:'2024-08-08 00:00:00-04:00']  # Adjust date as needed\n",
    "test = df[['Open']].loc['2024-08-09 00:00:00-04:00':]"
   ]
  },
  {
   "cell_type": "code",
   "execution_count": 32,
   "metadata": {},
   "outputs": [
    {
     "name": "stdout",
     "output_type": "stream",
     "text": [
      "RUNNING THE L-BFGS-B CODE\n",
      "\n",
      "           * * *\n",
      "\n",
      "Machine precision = 2.220D-16\n",
      " N =            9     M =           10\n",
      "\n",
      "At X0         0 variables are exactly at the bounds\n",
      "\n",
      "At iterate    0    f= -0.00000D+00    |proj g|=  0.00000D+00\n",
      "\n",
      "           * * *\n",
      "\n",
      "Tit   = total number of iterations\n",
      "Tnf   = total number of function evaluations\n",
      "Tnint = total number of segments explored during Cauchy searches\n",
      "Skip  = number of BFGS updates skipped\n",
      "Nact  = number of active bounds at final generalized Cauchy point\n",
      "Projg = norm of the final projected gradient\n",
      "F     = final function value\n",
      "\n",
      "           * * *\n",
      "\n",
      "   N    Tit     Tnf  Tnint  Skip  Nact     Projg        F\n",
      "    9      0      1      0     0     0   0.000D+00  -0.000D+00\n",
      "  F =  -0.0000000000000000     \n",
      "\n",
      "CONVERGENCE: NORM_OF_PROJECTED_GRADIENT_<=_PGTOL            \n"
     ]
    },
    {
     "name": "stderr",
     "output_type": "stream",
     "text": [
      "/Users/yanellyhernandez/anaconda3/lib/python3.11/site-packages/statsmodels/tsa/base/tsa_model.py:473: ValueWarning: No frequency information was provided, so inferred frequency B will be used.\n",
      "  self._init_dates(dates, freq)\n",
      "/Users/yanellyhernandez/anaconda3/lib/python3.11/site-packages/statsmodels/tsa/base/tsa_model.py:473: ValueWarning: No frequency information was provided, so inferred frequency B will be used.\n",
      "  self._init_dates(dates, freq)\n",
      "/Users/yanellyhernandez/anaconda3/lib/python3.11/site-packages/statsmodels/tsa/statespace/sarimax.py:866: UserWarning: Too few observations to estimate starting parameters for ARMA and trend. All parameters except for variances will be set to zeros.\n",
      "  warn('Too few observations to estimate starting parameters%s.'\n",
      "/Users/yanellyhernandez/anaconda3/lib/python3.11/site-packages/statsmodels/tsa/statespace/sarimax.py:866: UserWarning: Too few observations to estimate starting parameters for seasonal ARMA. All parameters except for variances will be set to zeros.\n",
      "  warn('Too few observations to estimate starting parameters%s.'\n",
      " This problem is unconstrained.\n"
     ]
    }
   ],
   "source": [
    "# Define SARIMAX model with orders (you can modify them based on model selection)\n",
    "seasonal_model = SARIMAX(ts['Open'], order=(2,1,2), seasonal_order=(2,1,2,12))  # Adjust order based on the seasonality test\n",
    "seasonal_model_final = seasonal_model.fit()"
   ]
  },
  {
   "cell_type": "markdown",
   "metadata": {},
   "source": [
    "I choose to use SARIMAX to fit the model since there is seasonality in the data based on the Kruskal-Wallis algorithum stating that the pval has to be less than 0.05."
   ]
  },
  {
   "cell_type": "code",
   "execution_count": 33,
   "metadata": {},
   "outputs": [
    {
     "data": {
      "text/plain": [
       "'used this for more data, but in this case I am using 6 months of data'"
      ]
     },
     "execution_count": 33,
     "metadata": {},
     "output_type": "execute_result"
    }
   ],
   "source": [
    "# seasonal_model = SARIMAX(ts['Open'], order=(2,1,2), seasonal_order=(2,1,2,12)) # seasonal oreder: 4- p,d,q,seasonality\n",
    "# seasonal_model_final = seasonal_model.fit()\n",
    "\n",
    "\"\"\"used this for more data, but in this case I am using 6 months of data\"\"\""
   ]
  },
  {
   "cell_type": "markdown",
   "metadata": {},
   "source": [
    "https://numpy.org/doc/stable/reference/generated/numpy.nanargmin.html \n",
    "\n",
    "Since I am trying to get the best error (i.e low index), I am using np.nanargmin to find the best combination for both order and seasonal order\n"
   ]
  },
  {
   "cell_type": "markdown",
   "metadata": {},
   "source": [
    "# predict price for next period"
   ]
  },
  {
   "cell_type": "code",
   "execution_count": 34,
   "metadata": {},
   "outputs": [
    {
     "name": "stdout",
     "output_type": "stream",
     "text": [
      "Forecasted prices for the next 7 days:\n",
      "2024-08-09 00:00:00-04:00    212.629677\n",
      "2024-08-12 00:00:00-04:00    321.848011\n",
      "2024-08-13 00:00:00-04:00    321.618525\n",
      "2024-08-14 00:00:00-04:00    319.882462\n",
      "2024-08-15 00:00:00-04:00    322.107427\n",
      "2024-08-16 00:00:00-04:00    324.352364\n",
      "2024-08-19 00:00:00-04:00    327.275745\n",
      "Freq: B, Name: predicted_mean, dtype: float64\n"
     ]
    }
   ],
   "source": [
    "# Forecast the next 7 days\n",
    "forecast_steps = 7\n",
    "forecast = seasonal_model_final.forecast(steps=forecast_steps)\n",
    "\n",
    "# Generate date range for forecasted values\n",
    "forecast_dates = pd.date_range(ts.index[-1], periods=forecast_steps+1, freq='B')[1:]  # Generate next 7 business days\n",
    "\n",
    "# Convert forecast to pandas Series for easier visualization\n",
    "forecast = pd.Series(forecast, index=forecast_dates)\n",
    "\n",
    "# Print forecasted prices for the next 7 days\n",
    "print(f\"Forecasted prices for the next 7 days:\\n{forecast}\")"
   ]
  },
  {
   "cell_type": "code",
   "execution_count": 35,
   "metadata": {},
   "outputs": [
    {
     "name": "stdout",
     "output_type": "stream",
     "text": [
      "RMSE: 93.94944325588457\n"
     ]
    },
    {
     "name": "stderr",
     "output_type": "stream",
     "text": [
      "/Users/yanellyhernandez/anaconda3/lib/python3.11/site-packages/sklearn/metrics/_regression.py:492: FutureWarning: 'squared' is deprecated in version 1.4 and will be removed in 1.6. To calculate the root mean squared error, use the function'root_mean_squared_error'.\n",
      "  warnings.warn(\n"
     ]
    }
   ],
   "source": [
    "# Calculate Mean Squared Error between forecast and actual test set values\n",
    "min_length = min(len(test), len(forecast))\n",
    "test_aligned = test[:min_length]\n",
    "forecast_aligned = forecast[:min_length]\n",
    "\n",
    "# Calculate RMSE\n",
    "mse = mean_squared_error(test_aligned, forecast_aligned, squared=False)\n",
    "print(f\"RMSE: {mse}\")"
   ]
  }
 ],
 "metadata": {
  "kernelspec": {
   "display_name": "base",
   "language": "python",
   "name": "python3"
  },
  "language_info": {
   "codemirror_mode": {
    "name": "ipython",
    "version": 3
   },
   "file_extension": ".py",
   "mimetype": "text/x-python",
   "name": "python",
   "nbconvert_exporter": "python",
   "pygments_lexer": "ipython3",
   "version": "3.11.5"
  }
 },
 "nbformat": 4,
 "nbformat_minor": 2
}
